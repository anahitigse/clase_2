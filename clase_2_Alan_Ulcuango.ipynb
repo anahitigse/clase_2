{
 "cells": [
  {
   "cell_type": "markdown",
   "metadata": {},
   "source": [
    "# Deber N2\n",
    "Nombre: Alan Ulcuango"
   ]
  },
  {
   "cell_type": "markdown",
   "metadata": {},
   "source": [
    "## 1 Programa la impresión de una tabla de multiplicar para todos los números entre 1 y 10, usando For-loops\n",
    "## Rendimiento esperado:\n",
    "     1   times  1  =    1\n",
    "     1   times  2  =    2\n",
    "     ...\n",
    "     1   times 10  =   10\n",
    "     ...\n",
    "    10   times 10  =  100  "
   ]
  },
  {
   "cell_type": "code",
   "execution_count": null,
   "metadata": {},
   "outputs": [
    {
     "name": "stdout",
     "output_type": "stream",
     "text": [
      "1 x 1=1\n",
      "1 x 2=2\n",
      "1 x 3=3\n",
      "1 x 4=4\n",
      "1 x 5=5\n",
      "1 x 6=6\n",
      "1 x 7=7\n",
      "1 x 8=8\n",
      "1 x 9=9\n",
      "1 x 10=10\n",
      "2 x 1=2\n",
      "2 x 2=4\n",
      "2 x 3=6\n",
      "2 x 4=8\n",
      "2 x 5=10\n",
      "2 x 6=12\n",
      "2 x 7=14\n",
      "2 x 8=16\n",
      "2 x 9=18\n",
      "2 x 10=20\n",
      "3 x 1=3\n",
      "3 x 2=6\n",
      "3 x 3=9\n",
      "3 x 4=12\n",
      "3 x 5=15\n",
      "3 x 6=18\n",
      "3 x 7=21\n",
      "3 x 8=24\n",
      "3 x 9=27\n",
      "3 x 10=30\n",
      "4 x 1=4\n",
      "4 x 2=8\n",
      "4 x 3=12\n",
      "4 x 4=16\n",
      "4 x 5=20\n",
      "4 x 6=24\n",
      "4 x 7=28\n",
      "4 x 8=32\n",
      "4 x 9=36\n",
      "4 x 10=40\n",
      "5 x 1=5\n",
      "5 x 2=10\n",
      "5 x 3=15\n",
      "5 x 4=20\n",
      "5 x 5=25\n",
      "5 x 6=30\n",
      "5 x 7=35\n",
      "5 x 8=40\n",
      "5 x 9=45\n",
      "5 x 10=50\n",
      "6 x 1=6\n",
      "6 x 2=12\n",
      "6 x 3=18\n",
      "6 x 4=24\n",
      "6 x 5=30\n",
      "6 x 6=36\n",
      "6 x 7=42\n",
      "6 x 8=48\n",
      "6 x 9=54\n",
      "6 x 10=60\n",
      "7 x 1=7\n",
      "7 x 2=14\n",
      "7 x 3=21\n",
      "7 x 4=28\n",
      "7 x 5=35\n",
      "7 x 6=42\n",
      "7 x 7=49\n",
      "7 x 8=56\n",
      "7 x 9=63\n",
      "7 x 10=70\n",
      "8 x 1=8\n",
      "8 x 2=16\n",
      "8 x 3=24\n",
      "8 x 4=32\n",
      "8 x 5=40\n",
      "8 x 6=48\n",
      "8 x 7=56\n",
      "8 x 8=64\n",
      "8 x 9=72\n",
      "8 x 10=80\n",
      "9 x 1=9\n",
      "9 x 2=18\n",
      "9 x 3=27\n",
      "9 x 4=36\n",
      "9 x 5=45\n",
      "9 x 6=54\n",
      "9 x 7=63\n",
      "9 x 8=72\n",
      "9 x 9=81\n",
      "9 x 10=90\n",
      "10 x 1=10\n",
      "10 x 2=20\n",
      "10 x 3=30\n",
      "10 x 4=40\n",
      "10 x 5=50\n",
      "10 x 6=60\n",
      "10 x 7=70\n",
      "10 x 8=80\n",
      "10 x 9=90\n",
      "10 x 10=100\n"
     ]
    }
   ],
   "source": [
    "Lista=[1,2,3,4,5,6,7,8,9,10]\n",
    "for a in range(len(Lista)):\n",
    "    for b in range(len(Lista)):\n",
    "        print(f\"{a+1} x {Lista[b]}={(a+1)*Lista[b]}\")"
   ]
  },
  {
   "cell_type": "markdown",
   "metadata": {},
   "source": [
    "## 2 Programe un calendario (para todos los meses) para 2020 usando For-loops\n",
    "## Rendimiento esperado:\n",
    "     January                     \n",
    "     Mon Tue Wed Thu Fri Sat Sun  \n",
    "              1   2   3   4   5\n",
    "      6   7   8   9  10  11  12\n",
    "     13  14  15  16  17  18  19\n",
    "     20  21  22  23  24  25  26\n",
    "     27  28  29  30  31\n",
    "\n",
    "     February\n",
    "     Mon Tue Wed Thu Fri Sat Sun\n",
    "                           1   2"
   ]
  },
  {
   "cell_type": "code",
   "execution_count": 1,
   "metadata": {},
   "outputs": [
    {
     "ename": "ValueError",
     "evalue": "invalid literal for int() with base 10: ''",
     "output_type": "error",
     "traceback": [
      "\u001b[1;31m---------------------------------------------------------------------------\u001b[0m",
      "\u001b[1;31mValueError\u001b[0m                                Traceback (most recent call last)",
      "\u001b[1;32mc:\\Users\\Administrador\\Desktop\\Curso Python FCE\\Deber_Clase2.ipynb Celda 5\u001b[0m in \u001b[0;36m<cell line: 2>\u001b[1;34m()\u001b[0m\n\u001b[0;32m      <a href='vscode-notebook-cell:/c%3A/Users/Administrador/Desktop/Curso%20Python%20FCE/Deber_Clase2.ipynb#ch0000004?line=0'>1</a>\u001b[0m \u001b[39mimport\u001b[39;00m \u001b[39mcalendar\u001b[39;00m\n\u001b[1;32m----> <a href='vscode-notebook-cell:/c%3A/Users/Administrador/Desktop/Curso%20Python%20FCE/Deber_Clase2.ipynb#ch0000004?line=1'>2</a>\u001b[0m year \u001b[39m=\u001b[39m \u001b[39mint\u001b[39;49m(\u001b[39minput\u001b[39;49m(\u001b[39m\"\u001b[39;49m\u001b[39mAño: \u001b[39;49m\u001b[39m\"\u001b[39;49m))\n\u001b[0;32m      <a href='vscode-notebook-cell:/c%3A/Users/Administrador/Desktop/Curso%20Python%20FCE/Deber_Clase2.ipynb#ch0000004?line=3'>4</a>\u001b[0m \u001b[39mfor\u001b[39;00m i \u001b[39min\u001b[39;00m \u001b[39mrange\u001b[39m(\u001b[39m1\u001b[39m,\u001b[39m13\u001b[39m):\n\u001b[0;32m      <a href='vscode-notebook-cell:/c%3A/Users/Administrador/Desktop/Curso%20Python%20FCE/Deber_Clase2.ipynb#ch0000004?line=4'>5</a>\u001b[0m   \u001b[39mprint\u001b[39m(calendar\u001b[39m.\u001b[39mmonth(year,i))\n",
      "\u001b[1;31mValueError\u001b[0m: invalid literal for int() with base 10: ''"
     ]
    }
   ],
   "source": [
    "import calendar\n",
    "year = int(input(\"Año: \"))\n",
    "\n",
    "for i in range(1,13):\n",
    "  print(calendar.month(year,i))\n"
   ]
  },
  {
   "cell_type": "markdown",
   "metadata": {},
   "source": [
    "## 3 Programe la siguiente regulación fiscal, usando datos ficticios con declaraciones condicionales, use las tres cláusulas (if, elif, else) al menos una vez\n",
    "Si el valor del paquete es inferior a 20 no tienes que pagar ningún impuesto de importación\n",
    "Si el valor del paquete está entre 20 y 30 pagas 10% de impuesto de importación sobre el valor total\n",
    "Si el valor del paquete está entre 30 y 60, paga un impuesto de importación adicional del 7% sobre el valor superior a 30\n",
    "Si el valor del paquete es superior a 60, paga un impuesto de importación adicional del 3% sobre el valor superior a 60\n",
    "\n",
    "Si el valor del paquete es superior a 10 pagas el 20% de IVA sobre la suma total del valor e impuesto de importación\n",
    "\n",
    "El valor del paquete debe establecerse en una variable y debe probar si su programa funciona para diferentes valores.\n",
    "### Salida esperada (ejemplo):\n",
    "El valor del paquete fue de 25,00, el impuesto de importación es de 2,50, el IVA es de 5,50, el total es de 33,00."
   ]
  },
  {
   "cell_type": "code",
   "execution_count": null,
   "metadata": {},
   "outputs": [],
   "source": [
    "valor=float(input(\"Ingrese el valor del paquete: \"))  \n",
    "while valor <0:\n",
    "    print(\"El valor que ingreso debe ser un número positivo:\")\n",
    "    valor=float(input(\"Ingrese el valor del paquete: \")) \n",
    "if valor <=10:\n",
    "    a=valor\n",
    "    ii=0\n",
    "    iva=0\n",
    "    print(f\"Sub total= {a:.2f}\")\n",
    "    print(f\"Porcentaje de impuesto de importacion= {ii*100}%\")\n",
    "    v_ii=a*ii\n",
    "    print(f\"Impuesto de importación={v_ii:.2f}\")\n",
    "    print(\"------------------------------------\")\n",
    "    va=a+v_ii\n",
    "    print(f\"Sub total antes del iva={va}\")\n",
    "    print(f\"Porcentaje de IVA= {iva*100}%\")\n",
    "    v_iva=va*iva\n",
    "    print(f\"Impuesto de IVA= {v_iva}\")\n",
    "    print(\"------------------------------------\")\n",
    "    print(f\"Total a pagar={va+v_iva:.2f}\")\n",
    "elif 10<= valor <20:\n",
    "    a=valor\n",
    "    ii=10/100\n",
    "    iva=20/100\n",
    "    print(f\"Sub total= {a:.2f}\")\n",
    "    print(f\"Porcentaje de impuesto de importacion= {ii*100}%\")\n",
    "    v_ii=a*ii\n",
    "    print(f\"Impuesto de importación={v_ii:.2f}\")\n",
    "    print(\"------------------------------------\")\n",
    "    va=a+v_ii\n",
    "    print(f\"Sub total antes del iva={va}\")\n",
    "    print(f\"Porcentaje de IVA= {iva*100}%\")\n",
    "    v_iva=va*iva\n",
    "    print(f\"Impuesto de IVA= {v_iva}\")\n",
    "    print(\"------------------------------------\")\n",
    "    print(f\"Total a pagar={va+v_iva:.2f}\")\n",
    "elif 20<= valor <=30:\n",
    "    a=valor\n",
    "    ii=10/100\n",
    "    iva=20/100\n",
    "    print(f\"Sub total= {a:.2f}\")\n",
    "    print(f\"Porcentaje de impuesto de importacion= {ii*100}%\")\n",
    "    v_ii=a*ii\n",
    "    print(f\"Impuesto de importación={v_ii:.2f}\")\n",
    "    print(\"------------------------------------\")\n",
    "    va=a+v_ii\n",
    "    print(f\"Sub total antes del iva={va}\")\n",
    "    print(f\"Porcentaje de IVA= {iva*100}%\")\n",
    "    v_iva=va*iva\n",
    "    print(f\"Impuesto de IVA= {v_iva}\")\n",
    "    print(\"------------------------------------\")\n",
    "    print(f\"Total a pagar={va+v_iva:.2f}\")\n",
    "elif 30< valor <=60:\n",
    "    a=valor\n",
    "    ii=17/100\n",
    "    iva=20/100\n",
    "    print(f\"Sub total= {a:.2f}\")\n",
    "    print(f\"Porcentaje de impuesto de importacion= {ii*100}%\")\n",
    "    v_ii=a*ii\n",
    "    print(f\"Impuesto de importación={v_ii:.2f}\")\n",
    "    print(\"------------------------------------\")\n",
    "    va=a+v_ii\n",
    "    print(f\"Sub total antes del iva={va}\")\n",
    "    print(f\"Porcentaje de IVA= {iva*100}%\")\n",
    "    v_iva=va*iva\n",
    "    print(f\"Impuesto de IVA= {v_iva}\")\n",
    "    print(\"------------------------------------\")\n",
    "    print(f\"Total a pagar={va+v_iva:.2f}\")\n",
    "else:\n",
    "    a=valor\n",
    "    ii=20/100\n",
    "    iva=20/100\n",
    "    print(f\"Sub total= {a:.2f}\")\n",
    "    print(f\"Porcentaje de impuesto de importacion= {ii*100}%\")\n",
    "    v_ii=a*ii\n",
    "    print(f\"Impuesto de importación={v_ii:.2f}\")\n",
    "    print(\"------------------------------------\")\n",
    "    va=a+v_ii\n",
    "    print(f\"Sub total antes del iva={va}\")\n",
    "    print(f\"Porcentaje de IVA= {iva*100}%\")\n",
    "    v_iva=va*iva\n",
    "    print(f\"Impuesto de IVA= {v_iva}\")\n",
    "    print(\"------------------------------------\")\n",
    "    print(f\"Total a pagar={va+v_iva:.2f}\")   "
   ]
  },
  {
   "cell_type": "markdown",
   "metadata": {},
   "source": [
    "## 4 Reescribe el siguiente programa reemplazando la declaración condicional con expresiones condicionales"
   ]
  },
  {
   "cell_type": "code",
   "execution_count": null,
   "metadata": {},
   "outputs": [],
   "source": [
    "a = -1\n",
    "if a == 0:\n",
    "    result = \"= 0\"\n",
    "elif a>1:\n",
    "    result = \"> 1\"\n",
    "else:\n",
    "    result = \"<= 1\"\n",
    "print(result)  "
   ]
  },
  {
   "cell_type": "code",
   "execution_count": null,
   "metadata": {},
   "outputs": [],
   "source": [
    "a = -1\n",
    "if a == 0:\n",
    "    result = \"El número es cero\"\n",
    "elif a>1:\n",
    "    result = \"El número es mayor a cero\"\n",
    "else:\n",
    "    result = \"El número es igual o menor a cero\"\n",
    "print(result)  "
   ]
  },
  {
   "cell_type": "markdown",
   "metadata": {},
   "source": [
    "## 5 Reescriba el siguiente programa reemplazando la lista de comprensión con un while-loop"
   ]
  },
  {
   "cell_type": "code",
   "execution_count": 13,
   "metadata": {},
   "outputs": [
    {
     "name": "stdout",
     "output_type": "stream",
     "text": [
      "[4, 16]\n"
     ]
    }
   ],
   "source": [
    "list_1 = [1, 2, 3, 4]\n",
    "result  =  [digit ** 2 for digit in list_1 if digit % 2 == 0]\n",
    "print(result)"
   ]
  },
  {
   "cell_type": "code",
   "execution_count": 9,
   "metadata": {},
   "outputs": [
    {
     "name": "stdout",
     "output_type": "stream",
     "text": [
      "[4, 16]\n"
     ]
    }
   ],
   "source": [
    "list_1 = [1, 2, 3, 4]\n",
    "lista=[]\n",
    "while list_1:\n",
    "    numero=list_1.pop(0)\n",
    "    if numero%2==0:\n",
    "        numero1=numero**2\n",
    "        lista.append(numero1)\n",
    "print(lista)"
   ]
  },
  {
   "cell_type": "markdown",
   "metadata": {},
   "source": [
    "## 6 En la clase 1 te mostramos las siguientes afirmaciones:"
   ]
  },
  {
   "cell_type": "code",
   "execution_count": 14,
   "metadata": {},
   "outputs": [
    {
     "name": "stdout",
     "output_type": "stream",
     "text": [
      "True\n",
      "False\n"
     ]
    }
   ],
   "source": [
    "a = 1\n",
    "b = 1\n",
    "print(a is b)\n",
    "\n",
    "a = 1000\n",
    "b = 1000\n",
    "print(a is b)"
   ]
  },
  {
   "cell_type": "markdown",
   "metadata": {},
   "source": [
    "Y, por supuesto, tienes curiosidad por la diferencia. Aprendimos en la clase 1 que los números enteros -5 hasta 255 fueron internados (guardados en disco) cuando comenzó Python, esto significa que los objetos con estos valores ya estaban creados. Ahora deseaamos escribir un programa que nos diga que 256 es de hecho el primer número entero que Python no esta guardado en disco.\n",
    "\n",
    "Escrbimos el siguiente programa y ahora necsitamos explicar por qué este programa imprimirá \"Sorpresa\". ¿No debería romperse mientras se procesa el número entero 256, ya que ese número no está guardado internamente?"
   ]
  },
  {
   "cell_type": "code",
   "execution_count": null,
   "metadata": {},
   "outputs": [],
   "source": [
    "for x in range(1000):\n",
    "    a = x\n",
    "    b = x\n",
    "    if not (a is b):\n",
    "        print(f\"the highest integer {x-1}\")\n",
    "        break\n",
    "else:\n",
    "    print(\"Surprise\")"
   ]
  },
  {
   "cell_type": "markdown",
   "metadata": {},
   "source": [
    "## 7 Vuelva a escribir la siguiente declaración sin un bucle y solo usando declaraciones condicionales:"
   ]
  },
  {
   "cell_type": "code",
   "execution_count": 28,
   "metadata": {},
   "outputs": [
    {
     "name": "stdout",
     "output_type": "stream",
     "text": [
      "1\n",
      "2\n",
      "3\n"
     ]
    }
   ],
   "source": [
    "i = 1\n",
    "while i < 4:\n",
    "    print(i)\n",
    "    i+=1"
   ]
  },
  {
   "cell_type": "code",
   "execution_count": null,
   "metadata": {},
   "outputs": [],
   "source": [
    "i = 1\n",
    "if 1 < 4:\n",
    "  valor = 1\n",
    "  valor_1 = i+1\n",
    "  valor_2 = i+2\n",
    "\n",
    "print(valor)\n",
    "print(valor_1)\n",
    "print(valor_2)"
   ]
  }
 ],
 "metadata": {
  "kernelspec": {
   "display_name": "Python 3.10.4 64-bit",
   "language": "python",
   "name": "python3"
  },
  "language_info": {
   "codemirror_mode": {
    "name": "ipython",
    "version": 3
   },
   "file_extension": ".py",
   "mimetype": "text/x-python",
   "name": "python",
   "nbconvert_exporter": "python",
   "pygments_lexer": "ipython3",
   "version": "3.10.4"
  },
  "orig_nbformat": 4,
  "vscode": {
   "interpreter": {
    "hash": "d7546de2d5b66e6bb4051f93f462cf1f21acc5c70ac66712f7c9fa60f386dd80"
   }
  }
 },
 "nbformat": 4,
 "nbformat_minor": 2
}
