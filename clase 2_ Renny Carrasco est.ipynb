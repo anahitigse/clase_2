{
 "cells": [
  {
   "cell_type": "markdown",
   "metadata": {},
   "source": [
    "# Clase 2\n",
    "## En la clase 1 discutimos datos, operadores y métodos. Esta semana discutiremos algunas otras habilidades esenciales que le dan el poder de implementar sus ideas con Python:\n",
    "* ### Declaraciones condicionales que permiten controlar el flujo de su programa\n",
    "* ### Bucles que permiten reutilizar instrucciones, sin tener que copiarlas"
   ]
  },
  {
   "cell_type": "markdown",
   "metadata": {},
   "source": [
    "## De ahora en adelante comenzaremos cada lección con un programa de ejemplo. Los programas de ejemplo le mostrarán las nuevas ideas para esa semana.\n",
    "\n",
    "* ### En los cuadernos estos ejemplos se llamarán programas de ejemplo\n",
    "* ### En el programa de ejemplo de esta semana aprenderemos: Cómo leer y escribir archivos\n",
    "  * #### con comandos elementales como open(), close() y write(), mientras lee con un bucle for\n",
    "  * #### Cómo crear, leer y escribir (en) una base de datos, usamos Sqlite para esta tarea. Sqlite es una biblioteca estándar de Python\n",
    "  * #### Hay otras formas de almacenar y recuperar datos, y algunas las veremos en lecciones posteriores, pero ya hacen posible escribir programas serios"
   ]
  },
  {
   "cell_type": "markdown",
   "metadata": {},
   "source": [
    "# Literatura para la semana 2\n",
    "* ## La biblioteca random [https://docs.python.org/3/library/random.html](https://docs.python.org/3/library/random.html)\n",
    "* ## Desde [https://docs.python.org/3/tutorial/index.html](https://docs.python.org/3/tutorial/index.html) capítulo 4 hasta 4.5\n",
    "* ## [https://www.w3schools.com/python/python_while_loops.asp](https://www.w3schools.com/python/python_while_loops.asp)\n",
    "* ## [https://www.pythonforbeginners.com/cheatsheet/python-file-handling](https://www.pythonforbeginners.com/cheatsheet/python-file-handling)\n",
    "* ## Sqlite\n",
    "  * ### [https://docs.python.org/3/library/sqlite3.html](https://docs.python.org/3/library/sqlite3.html), hasta 'Ver también'\n",
    "  * ### [https://www.w3schools.com/sql/default.asp](https://www.w3schools.com/sql/default.asp), esta página y mire la columna de la izquierda y estudie las siguientes declaraciones Select, Where, Insert into, Update, Delete, Create DB, Create Table, Drop Table "
   ]
  },
  {
   "cell_type": "markdown",
   "metadata": {},
   "source": [
    "# Temas para la clase 2\n",
    "* ## Programa de ejemplo: La programación del juego de adivinanzas contiene todos los temas que tratamos esta semana. Dependiendo de lo que funcione mejor para usted, puede estudiar este ejemplo al principio o al final del material de esta semana. Será discutido en un video separado.\n",
    "* ## Declaraciones condicionales\n",
    "  * ### If\n",
    "  * ### else\n",
    "  * ### elif\n",
    "* ## Bucles\n",
    "  * ### For-loops, para iterar sobre una secuencia (por ejemplo, una colección)\n",
    "  * ### while-loops\n",
    "* ## Atajos\n",
    "  * ### Expresiones condicionales, para reemplazar sentencias condicionales\n",
    "  * ### Comprensiones, para reemplazar for-loops"
   ]
  },
  {
   "cell_type": "markdown",
   "metadata": {},
   "source": [
    "# Programa de ejemplo: El juego de adivinanzas\n",
    "## Escribiremos un juego que le pida al usuario que adivine un número conocido por la computadora. El programa le dará retroalimentación al usuario, ya sea que el usuario adivinó demasiado, demasiado o exactamente bien. Cuando el usuario acertó, el programa elogia al usuario y se detiene."
   ]
  },
  {
   "cell_type": "code",
   "execution_count": 122,
   "metadata": {},
   "outputs": [
    {
     "name": "stdout",
     "output_type": "stream",
     "text": [
      "Adivina un numero entre 1 y 1000600\n",
      "Muy alto, por favor intenta otra vez, un numero entre 1 y 599400\n",
      "Muy bajo, por favor intenta otra vez, un numero entre  401 and 599477\n",
      "Bien hecho,solo te tomaron 3 intentos.\n"
     ]
    }
   ],
   "source": [
    "target = 477#numero que queremos que adivine\n",
    "lower_bound = 1 #intervalo\n",
    "upper_bound = 1000 #intervalo\n",
    "guesses = 0 #intentos\n",
    "\n",
    "# LA funcion input nos permite dar un numero al codigo que esta siendo ejecutado\n",
    "guess = int(input(f\"Adivina un numero entre {lower_bound} y {upper_bound}\"))\n",
    "guesses += 1\n",
    "while guess != target:\n",
    "    if guess > target:\n",
    "        upper_bound = min(upper_bound, guess - 1)\n",
    "        guess = int(input(f\"Muy alto, por favor intenta otra vez, un numero entre {lower_bound} y {upper_bound}\"))\n",
    "    else:\n",
    "        lower_bound = max(lower_bound, guess + 1)\n",
    "        guess = int(input(f\"Muy bajo, por favor intenta otra vez, un numero entre  {lower_bound} and {upper_bound}\"))\n",
    "    guesses += 1\n",
    "        \n",
    "print( f\"Bien hecho,solo te tomaron {guesses} intentos.\")    "
   ]
  },
  {
   "cell_type": "markdown",
   "metadata": {},
   "source": [
    "### Algo salió mal, al leer el mensaje de error concluiríamos que el objetivo o el intento es una cadena.\n",
    "### Así que ponemos un print statement justo antes de comparar, adivinar y apuntar para ver cuál de los dos es una cadena\n",
    "### Aunque hay algunas formas muy avanzadas de encontrar errores, es bastante común simplemente imprimir valores y tipos"
   ]
  },
  {
   "cell_type": "code",
   "execution_count": 121,
   "metadata": {},
   "outputs": [
    {
     "name": "stdout",
     "output_type": "stream",
     "text": [
      "Guess a number between 1 and 1000477\n",
      "Well done it only took you 1 guesses.\n"
     ]
    }
   ],
   "source": [
    "target = 477\n",
    "lower_bound = 1\n",
    "upper_bound = 1000\n",
    "guesses = 0\n",
    "\n",
    "# The input functions puts the parameter on the screen and reguesses what is entered by the user \n",
    "guess = int(input(f\"Guess a number between {lower_bound} and {upper_bound}\"))\n",
    "guesses += 1\n",
    "while guess != target:\n",
    "    print(guess, type(guess))\n",
    "    print(target, type(target))\n",
    "    if guess > target:\n",
    "        upper_bound = min(upper_bound, guess - 1)\n",
    "        guess = input(f\"You guessed too high, guess a number between {lower_bound} and {upper_bound}\")\n",
    "    else:\n",
    "        lower_bound = max(lower_bound, guess + 1)\n",
    "        guess = input(f\"You guessed too low, guess a number between {lower_bound} and {upper_bound}\")\n",
    "    guesses += 1\n",
    "        \n",
    "print(f\"Well done it only took you {guesses} guesses.\")    "
   ]
  },
  {
   "cell_type": "markdown",
   "metadata": {},
   "source": [
    "### Al parecer el uso de la funcion intut requiere que nuestro objeto sea un entero."
   ]
  },
  {
   "cell_type": "code",
   "execution_count": 3,
   "metadata": {},
   "outputs": [
    {
     "name": "stdout",
     "output_type": "stream",
     "text": [
      "Guess a number between 1 and 100070\n",
      "You guessed too low, guess a number between 71 and 1000477\n",
      "Well done it only took you 2 guesses.\n"
     ]
    }
   ],
   "source": [
    "target = 477\n",
    "lower_bound = 1\n",
    "upper_bound = 1000\n",
    "guesses = 0\n",
    "\n",
    "# The input functions puts the parameter on the screen and reguesses what is entered by the user \n",
    "guess = int(input(f\"Guess a number between {lower_bound} and {upper_bound}\"))\n",
    "guesses += 1\n",
    "while guess != target:\n",
    "    # We leave the print statements as comments, maybe we need them more often during testing\n",
    "    # As soon as we are 100% sure about our program we delete these debugging statements\n",
    "    # print(guess, type(guess))\n",
    "    # print(target, type(target))\n",
    "\n",
    "    if guess > target:\n",
    "        upper_bound = min(upper_bound, guess - 1)\n",
    "        guess = int(input(f\"You guessed too high, guess a number between {lower_bound} and {upper_bound}\"))\n",
    "    else:\n",
    "        lower_bound= max(lower_bound, guess + 1)\n",
    "        guess = int(input(f\"You guessed too low, guess a number between {lower_bound} and {upper_bound}\"))\n",
    "    guesses += 1\n",
    "    \n",
    "print (f\"Well done it only took you {guesses} guesses.\")    "
   ]
  },
  {
   "cell_type": "markdown",
   "metadata": {},
   "source": [
    "### Por supuesto, el juego es un poco aburrido si siempre es el mismo número que tienes que adivinar, entonces, ¿qué tal si usas un número aleatorio?\n",
    "### El módulo random debe importarse y luego podemos usarlo para generar un número entero aleatorio"
   ]
  },
  {
   "cell_type": "code",
   "execution_count": 124,
   "metadata": {},
   "outputs": [
    {
     "name": "stdout",
     "output_type": "stream",
     "text": [
      "150\n",
      "Guess a number between 1 and 10001\n",
      "You guessed too low, guess a number between 2 and 10002\n"
     ]
    },
    {
     "ename": "KeyboardInterrupt",
     "evalue": "Interrupted by user",
     "output_type": "error",
     "traceback": [
      "\u001b[1;31m---------------------------------------------------------------------------\u001b[0m",
      "\u001b[1;31mKeyboardInterrupt\u001b[0m                         Traceback (most recent call last)",
      "\u001b[1;32m~\\AppData\\Local\\Temp/ipykernel_6336/874206087.py\u001b[0m in \u001b[0;36m<module>\u001b[1;34m\u001b[0m\n\u001b[0;32m     23\u001b[0m     \u001b[1;32melse\u001b[0m\u001b[1;33m:\u001b[0m\u001b[1;33m\u001b[0m\u001b[1;33m\u001b[0m\u001b[0m\n\u001b[0;32m     24\u001b[0m         \u001b[0mlower_bound\u001b[0m\u001b[1;33m=\u001b[0m \u001b[0mmax\u001b[0m\u001b[1;33m(\u001b[0m\u001b[0mlower_bound\u001b[0m\u001b[1;33m,\u001b[0m \u001b[0mguess\u001b[0m \u001b[1;33m+\u001b[0m \u001b[1;36m1\u001b[0m\u001b[1;33m)\u001b[0m\u001b[1;33m\u001b[0m\u001b[1;33m\u001b[0m\u001b[0m\n\u001b[1;32m---> 25\u001b[1;33m         \u001b[0mguess\u001b[0m \u001b[1;33m=\u001b[0m \u001b[0mint\u001b[0m\u001b[1;33m(\u001b[0m\u001b[0minput\u001b[0m\u001b[1;33m(\u001b[0m\u001b[1;34mf\"You guessed too low, guess a number between {lower_bound} and {upper_bound}\"\u001b[0m\u001b[1;33m)\u001b[0m\u001b[1;33m)\u001b[0m\u001b[1;33m\u001b[0m\u001b[1;33m\u001b[0m\u001b[0m\n\u001b[0m\u001b[0;32m     26\u001b[0m     \u001b[0mguesses\u001b[0m \u001b[1;33m+=\u001b[0m \u001b[1;36m1\u001b[0m\u001b[1;33m\u001b[0m\u001b[1;33m\u001b[0m\u001b[0m\n\u001b[0;32m     27\u001b[0m \u001b[1;33m\u001b[0m\u001b[0m\n",
      "\u001b[1;32m~\\anaconda3\\lib\\site-packages\\ipykernel\\kernelbase.py\u001b[0m in \u001b[0;36mraw_input\u001b[1;34m(self, prompt)\u001b[0m\n\u001b[0;32m   1004\u001b[0m                 \u001b[1;34m\"raw_input was called, but this frontend does not support input requests.\"\u001b[0m\u001b[1;33m\u001b[0m\u001b[1;33m\u001b[0m\u001b[0m\n\u001b[0;32m   1005\u001b[0m             )\n\u001b[1;32m-> 1006\u001b[1;33m         return self._input_request(\n\u001b[0m\u001b[0;32m   1007\u001b[0m             \u001b[0mstr\u001b[0m\u001b[1;33m(\u001b[0m\u001b[0mprompt\u001b[0m\u001b[1;33m)\u001b[0m\u001b[1;33m,\u001b[0m\u001b[1;33m\u001b[0m\u001b[1;33m\u001b[0m\u001b[0m\n\u001b[0;32m   1008\u001b[0m             \u001b[0mself\u001b[0m\u001b[1;33m.\u001b[0m\u001b[0m_parent_ident\u001b[0m\u001b[1;33m[\u001b[0m\u001b[1;34m\"shell\"\u001b[0m\u001b[1;33m]\u001b[0m\u001b[1;33m,\u001b[0m\u001b[1;33m\u001b[0m\u001b[1;33m\u001b[0m\u001b[0m\n",
      "\u001b[1;32m~\\anaconda3\\lib\\site-packages\\ipykernel\\kernelbase.py\u001b[0m in \u001b[0;36m_input_request\u001b[1;34m(self, prompt, ident, parent, password)\u001b[0m\n\u001b[0;32m   1049\u001b[0m             \u001b[1;32mexcept\u001b[0m \u001b[0mKeyboardInterrupt\u001b[0m\u001b[1;33m:\u001b[0m\u001b[1;33m\u001b[0m\u001b[1;33m\u001b[0m\u001b[0m\n\u001b[0;32m   1050\u001b[0m                 \u001b[1;31m# re-raise KeyboardInterrupt, to truncate traceback\u001b[0m\u001b[1;33m\u001b[0m\u001b[1;33m\u001b[0m\u001b[0m\n\u001b[1;32m-> 1051\u001b[1;33m                 \u001b[1;32mraise\u001b[0m \u001b[0mKeyboardInterrupt\u001b[0m\u001b[1;33m(\u001b[0m\u001b[1;34m\"Interrupted by user\"\u001b[0m\u001b[1;33m)\u001b[0m \u001b[1;32mfrom\u001b[0m \u001b[1;32mNone\u001b[0m\u001b[1;33m\u001b[0m\u001b[1;33m\u001b[0m\u001b[0m\n\u001b[0m\u001b[0;32m   1052\u001b[0m             \u001b[1;32mexcept\u001b[0m \u001b[0mException\u001b[0m\u001b[1;33m:\u001b[0m\u001b[1;33m\u001b[0m\u001b[1;33m\u001b[0m\u001b[0m\n\u001b[0;32m   1053\u001b[0m                 \u001b[0mself\u001b[0m\u001b[1;33m.\u001b[0m\u001b[0mlog\u001b[0m\u001b[1;33m.\u001b[0m\u001b[0mwarning\u001b[0m\u001b[1;33m(\u001b[0m\u001b[1;34m\"Invalid Message:\"\u001b[0m\u001b[1;33m,\u001b[0m \u001b[0mexc_info\u001b[0m\u001b[1;33m=\u001b[0m\u001b[1;32mTrue\u001b[0m\u001b[1;33m)\u001b[0m\u001b[1;33m\u001b[0m\u001b[1;33m\u001b[0m\u001b[0m\n",
      "\u001b[1;31mKeyboardInterrupt\u001b[0m: Interrupted by user"
     ]
    }
   ],
   "source": [
    "import random\n",
    "# Vemos el seed the random generator.Al usar esto no importa en donde el numero random sera el mismo siempre\n",
    "\n",
    "random.seed(100)\n",
    "target = random.randint(1, 1000)\n",
    "# Vamos a ayudarnos un poco para no tener que intentar mucho timepo\n",
    "print(target)\n",
    "\n",
    "guesses = 0\n",
    "lower_bound = 1\n",
    "upper_bound = 1000\n",
    "\n",
    " \n",
    "guess = int(input(f\"Guess a number between {lower_bound} and {upper_bound}\"))\n",
    "guesses += 1\n",
    "while guess != target:\n",
    "    # print(guess, type(guess))\n",
    "    # print(target, type(target))\n",
    "\n",
    "    if guess > target:\n",
    "        upper_bound = min(upper_bound, guess - 1)\n",
    "        guess = int(input(f\"You guessed too high, guess a number between {lower_bound} and {upper_bound}\"))\n",
    "    else:\n",
    "        lower_bound= max(lower_bound, guess + 1)\n",
    "        guess = int(input(f\"You guessed too low, guess a number between {lower_bound} and {upper_bound}\"))\n",
    "    guesses += 1\n",
    "\n",
    "print (f\"Well done it only took you {guesses} guesses.\")    "
   ]
  },
  {
   "cell_type": "markdown",
   "metadata": {},
   "source": [
    "###  Sin el random seed"
   ]
  },
  {
   "cell_type": "code",
   "execution_count": 125,
   "metadata": {},
   "outputs": [
    {
     "name": "stdout",
     "output_type": "stream",
     "text": [
      "471\n",
      "Guess a number between 1 and 1000100\n",
      "You guessed too low, guess a number between 101 and 1000700\n",
      "You guessed too high, guess a number between 101 and 699701\n"
     ]
    },
    {
     "ename": "KeyboardInterrupt",
     "evalue": "Interrupted by user",
     "output_type": "error",
     "traceback": [
      "\u001b[1;31m---------------------------------------------------------------------------\u001b[0m",
      "\u001b[1;31mKeyboardInterrupt\u001b[0m                         Traceback (most recent call last)",
      "\u001b[1;32m~\\AppData\\Local\\Temp/ipykernel_6336/2816220098.py\u001b[0m in \u001b[0;36m<module>\u001b[1;34m\u001b[0m\n\u001b[0;32m     19\u001b[0m     \u001b[1;32mif\u001b[0m \u001b[0mguess\u001b[0m \u001b[1;33m>\u001b[0m \u001b[0mtarget\u001b[0m\u001b[1;33m:\u001b[0m\u001b[1;33m\u001b[0m\u001b[1;33m\u001b[0m\u001b[0m\n\u001b[0;32m     20\u001b[0m         \u001b[0mupper_bound\u001b[0m \u001b[1;33m=\u001b[0m \u001b[0mmin\u001b[0m\u001b[1;33m(\u001b[0m\u001b[0mupper_bound\u001b[0m\u001b[1;33m,\u001b[0m \u001b[0mguess\u001b[0m \u001b[1;33m-\u001b[0m \u001b[1;36m1\u001b[0m\u001b[1;33m)\u001b[0m\u001b[1;33m\u001b[0m\u001b[1;33m\u001b[0m\u001b[0m\n\u001b[1;32m---> 21\u001b[1;33m         \u001b[0mguess\u001b[0m \u001b[1;33m=\u001b[0m \u001b[0mint\u001b[0m\u001b[1;33m(\u001b[0m\u001b[0minput\u001b[0m\u001b[1;33m(\u001b[0m\u001b[1;34mf\"You guessed too high, guess a number between {lower_bound} and {upper_bound}\"\u001b[0m\u001b[1;33m)\u001b[0m\u001b[1;33m)\u001b[0m\u001b[1;33m\u001b[0m\u001b[1;33m\u001b[0m\u001b[0m\n\u001b[0m\u001b[0;32m     22\u001b[0m     \u001b[1;32melse\u001b[0m\u001b[1;33m:\u001b[0m\u001b[1;33m\u001b[0m\u001b[1;33m\u001b[0m\u001b[0m\n\u001b[0;32m     23\u001b[0m         \u001b[0mlower_bound\u001b[0m\u001b[1;33m=\u001b[0m \u001b[0mmax\u001b[0m\u001b[1;33m(\u001b[0m\u001b[0mlower_bound\u001b[0m\u001b[1;33m,\u001b[0m \u001b[0mguess\u001b[0m \u001b[1;33m+\u001b[0m \u001b[1;36m1\u001b[0m\u001b[1;33m)\u001b[0m\u001b[1;33m\u001b[0m\u001b[1;33m\u001b[0m\u001b[0m\n",
      "\u001b[1;32m~\\anaconda3\\lib\\site-packages\\ipykernel\\kernelbase.py\u001b[0m in \u001b[0;36mraw_input\u001b[1;34m(self, prompt)\u001b[0m\n\u001b[0;32m   1004\u001b[0m                 \u001b[1;34m\"raw_input was called, but this frontend does not support input requests.\"\u001b[0m\u001b[1;33m\u001b[0m\u001b[1;33m\u001b[0m\u001b[0m\n\u001b[0;32m   1005\u001b[0m             )\n\u001b[1;32m-> 1006\u001b[1;33m         return self._input_request(\n\u001b[0m\u001b[0;32m   1007\u001b[0m             \u001b[0mstr\u001b[0m\u001b[1;33m(\u001b[0m\u001b[0mprompt\u001b[0m\u001b[1;33m)\u001b[0m\u001b[1;33m,\u001b[0m\u001b[1;33m\u001b[0m\u001b[1;33m\u001b[0m\u001b[0m\n\u001b[0;32m   1008\u001b[0m             \u001b[0mself\u001b[0m\u001b[1;33m.\u001b[0m\u001b[0m_parent_ident\u001b[0m\u001b[1;33m[\u001b[0m\u001b[1;34m\"shell\"\u001b[0m\u001b[1;33m]\u001b[0m\u001b[1;33m,\u001b[0m\u001b[1;33m\u001b[0m\u001b[1;33m\u001b[0m\u001b[0m\n",
      "\u001b[1;32m~\\anaconda3\\lib\\site-packages\\ipykernel\\kernelbase.py\u001b[0m in \u001b[0;36m_input_request\u001b[1;34m(self, prompt, ident, parent, password)\u001b[0m\n\u001b[0;32m   1049\u001b[0m             \u001b[1;32mexcept\u001b[0m \u001b[0mKeyboardInterrupt\u001b[0m\u001b[1;33m:\u001b[0m\u001b[1;33m\u001b[0m\u001b[1;33m\u001b[0m\u001b[0m\n\u001b[0;32m   1050\u001b[0m                 \u001b[1;31m# re-raise KeyboardInterrupt, to truncate traceback\u001b[0m\u001b[1;33m\u001b[0m\u001b[1;33m\u001b[0m\u001b[0m\n\u001b[1;32m-> 1051\u001b[1;33m                 \u001b[1;32mraise\u001b[0m \u001b[0mKeyboardInterrupt\u001b[0m\u001b[1;33m(\u001b[0m\u001b[1;34m\"Interrupted by user\"\u001b[0m\u001b[1;33m)\u001b[0m \u001b[1;32mfrom\u001b[0m \u001b[1;32mNone\u001b[0m\u001b[1;33m\u001b[0m\u001b[1;33m\u001b[0m\u001b[0m\n\u001b[0m\u001b[0;32m   1052\u001b[0m             \u001b[1;32mexcept\u001b[0m \u001b[0mException\u001b[0m\u001b[1;33m:\u001b[0m\u001b[1;33m\u001b[0m\u001b[1;33m\u001b[0m\u001b[0m\n\u001b[0;32m   1053\u001b[0m                 \u001b[0mself\u001b[0m\u001b[1;33m.\u001b[0m\u001b[0mlog\u001b[0m\u001b[1;33m.\u001b[0m\u001b[0mwarning\u001b[0m\u001b[1;33m(\u001b[0m\u001b[1;34m\"Invalid Message:\"\u001b[0m\u001b[1;33m,\u001b[0m \u001b[0mexc_info\u001b[0m\u001b[1;33m=\u001b[0m\u001b[1;32mTrue\u001b[0m\u001b[1;33m)\u001b[0m\u001b[1;33m\u001b[0m\u001b[1;33m\u001b[0m\u001b[0m\n",
      "\u001b[1;31mKeyboardInterrupt\u001b[0m: Interrupted by user"
     ]
    }
   ],
   "source": [
    "import random\n",
    "\n",
    "# random.seed(100)\n",
    "target = random.randint(1, 1000)\n",
    "\n",
    "print(target)\n",
    "\n",
    "guesses = 0\n",
    "lower_bound = 1\n",
    "upper_bound = 1000\n",
    "\n",
    "\n",
    "guess = int(input(f\"Guess a number between {lower_bound} and {upper_bound}\"))\n",
    "guesses += 1\n",
    "while guess != target:\n",
    "    # print(guess, type(guess))\n",
    "    # print(target, type(target))\n",
    "\n",
    "    if guess > target:\n",
    "        upper_bound = min(upper_bound, guess - 1)\n",
    "        guess = int(input(f\"You guessed too high, guess a number between {lower_bound} and {upper_bound}\"))\n",
    "    else:\n",
    "        lower_bound= max(lower_bound, guess + 1)\n",
    "        guess = int(input(f\"You guessed too low, guess a number between {lower_bound} and {upper_bound}\"))\n",
    "    guesses += 1\n",
    "\n",
    "print (f\"Well done it only took you {guesses} guesses.\")    "
   ]
  },
  {
   "cell_type": "markdown",
   "metadata": {},
   "source": [
    "### Ahora reescribiremos el programa para que un usuario pueda jugar el juego una y otra vez hasta que ingrese -1"
   ]
  },
  {
   "cell_type": "code",
   "execution_count": 114,
   "metadata": {},
   "outputs": [
    {
     "ename": "IndentationError",
     "evalue": "unindent does not match any outer indentation level (<tokenize>, line 18)",
     "output_type": "error",
     "traceback": [
      "\u001b[1;36m  File \u001b[1;32m\"<tokenize>\"\u001b[1;36m, line \u001b[1;32m18\u001b[0m\n\u001b[1;33m    else:\u001b[0m\n\u001b[1;37m    ^\u001b[0m\n\u001b[1;31mIndentationError\u001b[0m\u001b[1;31m:\u001b[0m unindent does not match any outer indentation level\n"
     ]
    }
   ],
   "source": [
    "import random\n",
    "guess = 2000\n",
    "while guess != -1:\n",
    "    target = random.randint(1, 1000)\n",
    "    print(target)\n",
    "\n",
    "    guesses = 0\n",
    "    lower_bound = 1\n",
    "    upper_bound = 1000\n",
    "\n",
    "    guess = int(input(f\"Guess a number between {lower_bound} and {upper_bound}\"))\n",
    "    guesses += 1\n",
    "    \n",
    "    while guess != target and guess != -1:\n",
    "         if guess > target:\n",
    "            upper_bound = min(upper_bound, guess - 1)\n",
    "            guess = int(input(f\"You guessed too high, guess a number between {lower_bound} and {upper_bound}\"))\n",
    "        else:\n",
    "            lower_bound= max(lower_bound, guess + 1)\n",
    "            guess = int(input(f\"You guessed too low, guess a number between {lower_bound} and {upper_bound}\"))\n",
    "        guesses += 1\n",
    "    if guess == -1:\n",
    "        break    \n",
    "    print (f\"Well done it only took you {guesses} guesses.\")    \n",
    "\n",
    "print(\"Game ended\")"
   ]
  },
  {
   "cell_type": "markdown",
   "metadata": {},
   "source": [
    "### Última variación, queremos comparar participantes, por lo tanto, sacamos números aleatorios, pero los escribimos en un archivo.\n",
    "### Estos números se utilizarán para todos los participantes, para que podamos compararlos"
   ]
  },
  {
   "cell_type": "code",
   "execution_count": 4,
   "metadata": {},
   "outputs": [
    {
     "ename": "TypeError",
     "evalue": "write() argument must be str, not int",
     "output_type": "error",
     "traceback": [
      "\u001b[1;31m---------------------------------------------------------------------------\u001b[0m",
      "\u001b[1;31mTypeError\u001b[0m                                 Traceback (most recent call last)",
      "\u001b[1;32m<ipython-input-4-1cbe31f535bb>\u001b[0m in \u001b[0;36m<module>\u001b[1;34m\u001b[0m\n\u001b[0;32m      4\u001b[0m \u001b[1;32mfor\u001b[0m \u001b[0mi\u001b[0m \u001b[1;32min\u001b[0m \u001b[0mrange\u001b[0m\u001b[1;33m(\u001b[0m\u001b[1;36m5\u001b[0m\u001b[1;33m)\u001b[0m\u001b[1;33m:\u001b[0m\u001b[1;33m\u001b[0m\u001b[1;33m\u001b[0m\u001b[0m\n\u001b[0;32m      5\u001b[0m     \u001b[0mtarget\u001b[0m \u001b[1;33m=\u001b[0m \u001b[0mrandom\u001b[0m\u001b[1;33m.\u001b[0m\u001b[0mrandint\u001b[0m\u001b[1;33m(\u001b[0m\u001b[1;36m1\u001b[0m\u001b[1;33m,\u001b[0m\u001b[1;36m1000\u001b[0m\u001b[1;33m)\u001b[0m\u001b[1;33m\u001b[0m\u001b[1;33m\u001b[0m\u001b[0m\n\u001b[1;32m----> 6\u001b[1;33m     \u001b[0mrandom_numbers\u001b[0m\u001b[1;33m.\u001b[0m\u001b[0mwrite\u001b[0m\u001b[1;33m(\u001b[0m\u001b[0mtarget\u001b[0m\u001b[1;33m)\u001b[0m\u001b[1;33m\u001b[0m\u001b[1;33m\u001b[0m\u001b[0m\n\u001b[0m\u001b[0;32m      7\u001b[0m \u001b[0mrandom_numbers\u001b[0m\u001b[1;33m.\u001b[0m\u001b[0mclose\u001b[0m\u001b[1;33m(\u001b[0m\u001b[1;33m)\u001b[0m\u001b[1;33m\u001b[0m\u001b[1;33m\u001b[0m\u001b[0m\n",
      "\u001b[1;31mTypeError\u001b[0m: write() argument must be str, not int"
     ]
    }
   ],
   "source": [
    "import random\n",
    "random.seed(100)\n",
    "random_numbers= open('random_numbers.txt','w')\n",
    "for i in range(5):\n",
    "    target = random.randint(1,1000)\n",
    "    random_numbers.write(target)\n",
    "random_numbers.close()"
   ]
  },
  {
   "cell_type": "markdown",
   "metadata": {},
   "source": [
    "### El metodo write solo puede escribir cadenas(strings)"
   ]
  },
  {
   "cell_type": "code",
   "execution_count": 126,
   "metadata": {},
   "outputs": [],
   "source": [
    "import random\n",
    "random.seed(100)\n",
    "random_numbers = open('random_numbers.txt','w')\n",
    "for i in range(0,5):\n",
    "    target = str(random.randint(0,1000)) + \"\\n\"\n",
    "    random_numbers.write(target)"
   ]
  },
  {
   "cell_type": "code",
   "execution_count": 127,
   "metadata": {},
   "outputs": [
    {
     "name": "stdout",
     "output_type": "stream",
     "text": [
      "149\n",
      "Guess a number between 1 and 1000149\n",
      "Well done it only took you 1 guess.\n",
      "470\n",
      "Guess a number between 1 and 1000470\n",
      "Well done it only took you 1 guess.\n",
      "465\n",
      "Guess a number between 1 and 1000465\n",
      "Well done it only took you 1 guess.\n",
      "974\n"
     ]
    },
    {
     "ename": "KeyboardInterrupt",
     "evalue": "Interrupted by user",
     "output_type": "error",
     "traceback": [
      "\u001b[1;31m---------------------------------------------------------------------------\u001b[0m",
      "\u001b[1;31mKeyboardInterrupt\u001b[0m                         Traceback (most recent call last)",
      "\u001b[1;32m~\\AppData\\Local\\Temp/ipykernel_6336/3725113562.py\u001b[0m in \u001b[0;36m<module>\u001b[1;34m\u001b[0m\n\u001b[0;32m     10\u001b[0m     \u001b[0mupper_bound\u001b[0m \u001b[1;33m=\u001b[0m \u001b[1;36m1000\u001b[0m\u001b[1;33m\u001b[0m\u001b[1;33m\u001b[0m\u001b[0m\n\u001b[0;32m     11\u001b[0m \u001b[1;33m\u001b[0m\u001b[0m\n\u001b[1;32m---> 12\u001b[1;33m     \u001b[0mguess\u001b[0m \u001b[1;33m=\u001b[0m \u001b[0mint\u001b[0m\u001b[1;33m(\u001b[0m\u001b[0minput\u001b[0m\u001b[1;33m(\u001b[0m\u001b[1;34mf\"Guess a number between {lower_bound} and {upper_bound}\"\u001b[0m\u001b[1;33m)\u001b[0m\u001b[1;33m)\u001b[0m\u001b[1;33m\u001b[0m\u001b[1;33m\u001b[0m\u001b[0m\n\u001b[0m\u001b[0;32m     13\u001b[0m     \u001b[0mguesses\u001b[0m \u001b[1;33m+=\u001b[0m \u001b[1;36m1\u001b[0m\u001b[1;33m\u001b[0m\u001b[1;33m\u001b[0m\u001b[0m\n\u001b[0;32m     14\u001b[0m \u001b[1;33m\u001b[0m\u001b[0m\n",
      "\u001b[1;32m~\\anaconda3\\lib\\site-packages\\ipykernel\\kernelbase.py\u001b[0m in \u001b[0;36mraw_input\u001b[1;34m(self, prompt)\u001b[0m\n\u001b[0;32m   1004\u001b[0m                 \u001b[1;34m\"raw_input was called, but this frontend does not support input requests.\"\u001b[0m\u001b[1;33m\u001b[0m\u001b[1;33m\u001b[0m\u001b[0m\n\u001b[0;32m   1005\u001b[0m             )\n\u001b[1;32m-> 1006\u001b[1;33m         return self._input_request(\n\u001b[0m\u001b[0;32m   1007\u001b[0m             \u001b[0mstr\u001b[0m\u001b[1;33m(\u001b[0m\u001b[0mprompt\u001b[0m\u001b[1;33m)\u001b[0m\u001b[1;33m,\u001b[0m\u001b[1;33m\u001b[0m\u001b[1;33m\u001b[0m\u001b[0m\n\u001b[0;32m   1008\u001b[0m             \u001b[0mself\u001b[0m\u001b[1;33m.\u001b[0m\u001b[0m_parent_ident\u001b[0m\u001b[1;33m[\u001b[0m\u001b[1;34m\"shell\"\u001b[0m\u001b[1;33m]\u001b[0m\u001b[1;33m,\u001b[0m\u001b[1;33m\u001b[0m\u001b[1;33m\u001b[0m\u001b[0m\n",
      "\u001b[1;32m~\\anaconda3\\lib\\site-packages\\ipykernel\\kernelbase.py\u001b[0m in \u001b[0;36m_input_request\u001b[1;34m(self, prompt, ident, parent, password)\u001b[0m\n\u001b[0;32m   1049\u001b[0m             \u001b[1;32mexcept\u001b[0m \u001b[0mKeyboardInterrupt\u001b[0m\u001b[1;33m:\u001b[0m\u001b[1;33m\u001b[0m\u001b[1;33m\u001b[0m\u001b[0m\n\u001b[0;32m   1050\u001b[0m                 \u001b[1;31m# re-raise KeyboardInterrupt, to truncate traceback\u001b[0m\u001b[1;33m\u001b[0m\u001b[1;33m\u001b[0m\u001b[0m\n\u001b[1;32m-> 1051\u001b[1;33m                 \u001b[1;32mraise\u001b[0m \u001b[0mKeyboardInterrupt\u001b[0m\u001b[1;33m(\u001b[0m\u001b[1;34m\"Interrupted by user\"\u001b[0m\u001b[1;33m)\u001b[0m \u001b[1;32mfrom\u001b[0m \u001b[1;32mNone\u001b[0m\u001b[1;33m\u001b[0m\u001b[1;33m\u001b[0m\u001b[0m\n\u001b[0m\u001b[0;32m   1052\u001b[0m             \u001b[1;32mexcept\u001b[0m \u001b[0mException\u001b[0m\u001b[1;33m:\u001b[0m\u001b[1;33m\u001b[0m\u001b[1;33m\u001b[0m\u001b[0m\n\u001b[0;32m   1053\u001b[0m                 \u001b[0mself\u001b[0m\u001b[1;33m.\u001b[0m\u001b[0mlog\u001b[0m\u001b[1;33m.\u001b[0m\u001b[0mwarning\u001b[0m\u001b[1;33m(\u001b[0m\u001b[1;34m\"Invalid Message:\"\u001b[0m\u001b[1;33m,\u001b[0m \u001b[0mexc_info\u001b[0m\u001b[1;33m=\u001b[0m\u001b[1;32mTrue\u001b[0m\u001b[1;33m)\u001b[0m\u001b[1;33m\u001b[0m\u001b[1;33m\u001b[0m\u001b[0m\n",
      "\u001b[1;31mKeyboardInterrupt\u001b[0m: Interrupted by user"
     ]
    }
   ],
   "source": [
    "random_numbers = open('random_numbers.txt','r')\n",
    "rounds = 0\n",
    "total_guesses = 0\n",
    "for target in random_numbers:\n",
    "    target = int(target)\n",
    "    print(target)\n",
    "\n",
    "    guesses = 0\n",
    "    lower_bound = 1\n",
    "    upper_bound = 1000\n",
    "\n",
    "    guess = int(input(f\"Guess a number between {lower_bound} and {upper_bound}\"))\n",
    "    guesses += 1\n",
    "    \n",
    "    while guess != target and guess != -1:\n",
    "        if guess > target:\n",
    "            upper_bound = min(upper_bound, guess - 1)\n",
    "            guess = int(input(f\"You guessed too high, guess a number between {lower_bound} and {upper_bound}\"))\n",
    "        else:\n",
    "            lower_bound= max(lower_bound, guess + 1)\n",
    "            guess = int(input(f\"You guessed too low, guess a number between {lower_bound} and {upper_bound}\"))\n",
    "        guesses += 1\n",
    "    if guess == -1:\n",
    "        break\n",
    "    print (f\"Well done it only took you {guesses} {'guesses' if guesses > 1 else 'guess'}.\")\n",
    "    \n",
    "    total_guesses += guesses\n",
    "    rounds += 1\n",
    "print(f\"Game ended, you played {rounds} {'rounds' if rounds > 1 else 'round'} and it took you in total {total_guesses} {'guesses' if total_guesses > 1 else 'guess'}\")\n",
    "# result = 'rounds' if rounds > 1 else 'round' is a shortcut for\n",
    "# if rounds > 1:\n",
    "#     result = 'rounds'\n",
    "# else:\n",
    "#     result = 'round'\n",
    "      \n",
    "random_numbers.close()                             "
   ]
  },
  {
   "cell_type": "markdown",
   "metadata": {},
   "source": [
    "### Podemos usar sqlite database"
   ]
  },
  {
   "cell_type": "code",
   "execution_count": 8,
   "metadata": {},
   "outputs": [
    {
     "name": "stdout",
     "output_type": "stream",
     "text": [
      "[('1', '149'), ('2', '470'), ('3', '465'), ('4', '974'), ('5', '789')]\n"
     ]
    }
   ],
   "source": [
    "import random\n",
    "random.seed(100)\n",
    "\n",
    "# Here we use a so-called list comprehension, this is a short cut for a for loop in the cell below I will show you\n",
    "# what the for loop would look like that is replaced by the list comprehension\n",
    "random_numbers = [(str(index + 1), str(random.randint(0,1000))) for index in range(5)]\n",
    "print(random_numbers)\n",
    "# This is a short-cut for\n",
    "# random_numbers=[]\n",
    "# for index in range(5):\n",
    "#     random_numbers.append((str(index + 1), str(random.randint(0,1000))))\n",
    "# print(random_numbers)\n",
    "\n",
    "# To use a sqlite3 database you need to import the sqlite3 package\n",
    "import sqlite3\n",
    "\n",
    "# You have to make a connection to the database\n",
    "connection = sqlite3.connect('random numbers.db')\n",
    "\n",
    "# You have to create a cursor object, while with text files you only needed to muse an open function, here you need two functions\n",
    "# the connect function and the cursor function\n",
    "cursor = connection.cursor()\n",
    "\n",
    "# Delete table, I always do this. First I delete the table if it exists and only then I create a table. Creating a table\n",
    "# that already exists always gives errors. In this way avoid that\n",
    "cursor.execute('DROP TABLE IF EXISTS numbers')\n",
    "\n",
    "# Create table, you always have to create tables. While we just could store data in the txt file, you cannot do that \n",
    "# with a database. The data has to be stored in tables inside the database\n",
    "cursor.execute('CREATE TABLE numbers (index_number text, number text)')\n",
    "\n",
    "# fill table with values, the executemany function executes the same statement for all the tuples in the random_numbers list. \n",
    "# The elements inside the tuple replace the question marks\n",
    "cursor.executemany('INSERT INTO numbers VALUES (?, ?)', random_numbers)\n",
    "# This is a short-cut for\n",
    "# for random_number in random_numbers:\n",
    "#     cursor.execute(f'INSERT INTO numbers VALUES ({random_number[0]}, {random_number[1]})')\n",
    "\n",
    "# Save (commit) the changes\n",
    "connection.commit()\n",
    "# Just be sure any changes have been committed or they will be lost.\n",
    "\n",
    "# We can also close the connection if we are done with it.\n",
    "connection.close()"
   ]
  },
  {
   "cell_type": "code",
   "execution_count": 9,
   "metadata": {},
   "outputs": [
    {
     "name": "stdout",
     "output_type": "stream",
     "text": [
      "[('1', '149'), ('2', '470'), ('3', '465'), ('4', '974'), ('5', '789')]\n",
      "[149, 470, 465, 974, 789]\n",
      "149\n",
      "Guess a number between 1 and 1000-1\n",
      "Game ended, you played 0 rounds and it took you in total 0 guesses\n"
     ]
    }
   ],
   "source": [
    "import sqlite3\n",
    "# Make connection\n",
    "#connection = sqlite3.connect(\":memory:\")\n",
    "connection = sqlite3.connect('random numbers.db')\n",
    "# create cursor\n",
    "cursor = connection.cursor()\n",
    "# read table\n",
    "cursor.execute(\"SELECT * FROM numbers\")\n",
    "# Put result in table\n",
    "rows = cursor.fetchall()\n",
    "print (rows)\n",
    "random_numbers = [int(row[1]) for row in rows]\n",
    "print (random_numbers)\n",
    "\n",
    "# We can also close the connection if we are done with it.\n",
    "# Just be sure any changes have been committed or they will be lost.\n",
    "connection.close()\n",
    "\n",
    "rounds = 0\n",
    "total_guesses = 0\n",
    "for target in random_numbers:\n",
    "    target = int(target)\n",
    "    print(target)\n",
    "\n",
    "    guesses = 0\n",
    "    lower_bound = 1\n",
    "    upper_bound = 1000\n",
    "\n",
    "    guess = int(input(f\"Guess a number between {lower_bound} and {upper_bound}\"))\n",
    "    guesses += 1\n",
    "    \n",
    "    while guess != target and guess != -1:\n",
    "        if guess > target:\n",
    "            upper_bound = min(upper_bound, guess - 1)\n",
    "            guess = int(input(f\"You guessed too high, guess a number between {lower_bound} and {upper_bound}\"))\n",
    "        else:\n",
    "            lower_bound= max(lower_bound, guess + 1)\n",
    "            guess = int(input(f\"You guessed too low, guess a number between {lower_bound} and {upper_bound}\"))\n",
    "        guesses += 1\n",
    "    if guess == -1:\n",
    "        break\n",
    "    print (f\"Well done it only took you {guesses} {'guesses' if guesses > 1 else 'guess'}.\")\n",
    "    \n",
    "    total_guesses += guesses\n",
    "    rounds += 1\n",
    "print(f\"Game ended, you played {rounds} rounds and it took you in total {total_guesses} guesses\")\n"
   ]
  },
  {
   "cell_type": "markdown",
   "metadata": {},
   "source": [
    "### Usar una base de datos para almacenar 5 enteros es una exageración, pero si tiene más datos y los datos están relacionados, las bases de datos son una excelente manera. Por ejemplo, un banco podría tener una tabla de clientes y una tabla con cuentas, y como hay una relación entre clientes y cuentas, usar una base de datos es una buena idea."
   ]
  },
  {
   "cell_type": "markdown",
   "metadata": {},
   "source": [
    "# ¿Qué son los condicionales y qué son los bucles?\n",
    "* ## Los condicionales, dirige el orden de ejecución de los codigos en tu programa. Básicamente, hace que la ejecución de un bloque de código sea condicional, y usted le dice a Python a través de su programa bajo qué condiciones debe ejecutar ese bloque de código.\n",
    "* ## Bucles, repite un bloque de código (un conjunto de instrucciones) una y otra vez hasta que se cumpla una determinada condición, y le dices a Python a través de tu programa cuál es esta condición\n",
    "* ## For-loop, la condición es implícita, básicamente le dices al programa que repita un bloque de código siempre que una secuencia produzca (genere) elementos, y le dices al programa qué secuencia usar\n",
    " \n",
    "* ## while-loop, repite un bloque de código siempre que se cumpla una determinada condición, y le dices a Python a través de tu programa cuál es esta condición"
   ]
  },
  {
   "cell_type": "markdown",
   "metadata": {},
   "source": [
    "# Conditionales "
   ]
  },
  {
   "cell_type": "markdown",
   "metadata": {},
   "source": [
    "## If clause     "
   ]
  },
  {
   "cell_type": "markdown",
   "metadata": {},
   "source": [
    "### Sintaxis\n",
    "```python\n",
    "if <condicion>:\n",
    "    <statement-1>  # En los bloques de código de Python, las declaraciones if tienen que indentados(sangria)\n",
    "    <statement-2>  # Las declaraciones que se ejecutarán secuencialmente deben indentarse exactamente de la misma manera\n",
    "    ...            # Aunque a Python no le importa, es una buena práctica indentar siempre en múltiplos de 4 espacios\n",
    "                   # El uso de tab no es normalmente utilizado , es considerado como un mal uso pero funciona de todas formas\n",
    "                   # En resumen, siempre vaya a la siguiente línea y tome 4 espacios después de dos puntos en una declaración\n",
    "```\n",
    "### Sintaxis Alternativo\n",
    "```python\n",
    "if <condicion>: <statement-1>; <statement-2>; ... \n",
    "```"
   ]
  },
  {
   "cell_type": "code",
   "execution_count": 1,
   "metadata": {},
   "outputs": [
    {
     "name": "stdout",
     "output_type": "stream",
     "text": [
      "integer_1 is greater than 1\n"
     ]
    }
   ],
   "source": [
    "integer_1 = 2\n",
    "if integer_1 > 1:\n",
    "    print(\"integer_1 is greater than 1\")"
   ]
  },
  {
   "cell_type": "code",
   "execution_count": 2,
   "metadata": {},
   "outputs": [
    {
     "name": "stdout",
     "output_type": "stream",
     "text": [
      "integer_1 is greater than 1\n"
     ]
    }
   ],
   "source": [
    "integer_1 = 2\n",
    "if integer_1 > 1:print(\"integer_1 is greater than 1\")"
   ]
  },
  {
   "cell_type": "markdown",
   "metadata": {},
   "source": [
    "### Else condicional"
   ]
  },
  {
   "cell_type": "markdown",
   "metadata": {},
   "source": [
    "#### Sintaxis\n",
    "```python\n",
    "if <condicion>:\n",
    "    <statement-1>\n",
    "    <statement-2>\n",
    "    ...\n",
    "else:     #Solo se ejecuta este codigo si es que lo de arriba es falso\n",
    "    <statement-3>\n",
    "    <statement-4>\n",
    "    ...\n",
    "    \n",
    "(Lazy evaluation significa que Python solo ejecuta declaraciones cuando es necesario. Por lo tanto, puede encontrar un error en una parte de un programa después de años, ya que esa parte del programa nunca se ejecutó antes y, por lo tanto, nunca se encontró el error)\n",
    "    \n",
    "```\n",
    "####  Sintaxis Alternativo\n",
    "```python\n",
    "if <condition>: <statement-1>; <statement-2>; ... \n",
    "else: <statement-1>; <statement-2>; ... \n",
    "```"
   ]
  },
  {
   "cell_type": "code",
   "execution_count": 6,
   "metadata": {},
   "outputs": [
    {
     "name": "stdout",
     "output_type": "stream",
     "text": [
      "integer_1 is not greater than 1\n"
     ]
    }
   ],
   "source": [
    "integer_1 = 1\n",
    "if integer_1 > 1:\n",
    "    print(\"integer_1 is greater than 1\")\n",
    "else:\n",
    "    print(\"integer_1 is not greater than 1\")"
   ]
  },
  {
   "cell_type": "code",
   "execution_count": 4,
   "metadata": {},
   "outputs": [
    {
     "name": "stdout",
     "output_type": "stream",
     "text": [
      "integer_1 is not greater than 1\n"
     ]
    }
   ],
   "source": [
    "integer_1 = 0\n",
    "if integer_1 > 1:\n",
    "    print(\"integer_1 is greater than 1\")\n",
    "else:\n",
    "    print(\"integer_1 is not greater than 1\")"
   ]
  },
  {
   "cell_type": "code",
   "execution_count": 9,
   "metadata": {},
   "outputs": [
    {
     "name": "stdout",
     "output_type": "stream",
     "text": [
      "si\n"
     ]
    }
   ],
   "source": [
    "numero=100\n",
    "if numero>50:\n",
    "    print (\"si\")\n",
    "elif numero==100:\n",
    "    print (\"también\")\n",
    "    \n",
    "# un else solo sirve para un if\n",
    "elif numero <10:\n",
    "    print(\"este no\")\n",
    "else: \n",
    "    print(\"lo que sobra\")"
   ]
  },
  {
   "cell_type": "markdown",
   "metadata": {},
   "source": [
    "### Elif condicional"
   ]
  },
  {
   "cell_type": "markdown",
   "metadata": {},
   "source": [
    "#### Sintaxis\n",
    "```python\n",
    "if <condicion-1>:\n",
    "    <statement-1>\n",
    "    <statement-2>\n",
    "    ...\n",
    "elif <condition-2>:  # Solo se llega a un elif si todas las demas condiciones han sido falsas\n",
    "    <statement-3>\n",
    "    <statement-4>\n",
    "    ...\n",
    "elif <condition-3>:\n",
    "    <statement-5>\n",
    "    <statement-6>\n",
    "    ...\n",
    "...\n",
    "else:                # SOlo se llega a la clasuala else si es que todas las condiciones son falsas\n",
    "    <statement-7>    \n",
    "    <statement-8>\n",
    "    ...\n",
    "```\n"
   ]
  },
  {
   "cell_type": "markdown",
   "metadata": {},
   "source": [
    "#### Ejemplos"
   ]
  },
  {
   "cell_type": "code",
   "execution_count": 8,
   "metadata": {},
   "outputs": [
    {
     "name": "stdout",
     "output_type": "stream",
     "text": [
      "La edad no es 60 ni 61\n"
     ]
    }
   ],
   "source": [
    "age = 59\n",
    "if age == 60:\n",
    "    print(\"Edad es 60\")\n",
    "elif age == 61:\n",
    "    print (\"Edad es 61\")\n",
    "else:\n",
    "    print (\"La edad no es 60 ni 61\")"
   ]
  },
  {
   "cell_type": "code",
   "execution_count": 17,
   "metadata": {},
   "outputs": [
    {
     "name": "stdout",
     "output_type": "stream",
     "text": [
      "integer_1 es igual a 0\n"
     ]
    }
   ],
   "source": [
    "integer_1 = 100\n",
    "if integer_1 > 0:\n",
    "    print(\"integer_1 es igual a 0\")\n",
    "elif integer_1 > 1:\n",
    "    print(\"integer_1 es mayor que 1\")\n",
    "elif integer_1== 100:\n",
    "    print(\"no\")\n",
    "else:\n",
    "    print(\"integer_1 no es mayor que 1\")"
   ]
  },
  {
   "cell_type": "markdown",
   "metadata": {},
   "source": [
    "## bucles For-loop\n",
    "### Los bucles for-loop iteran sobre una secuencia\n",
    "#### Una secuencia puede ser una cadena, una colección (como una lista, una tupla, un diccionario, un conjunto) o un objeto especial (como un objeto de rango, un objeto de enumeración, un objeto zip)\n",
    "#### La diferencia entre las colecciones (y cadenas) y los últimos objetos especiales mencionados es que las colecciones (y cadenas) son secuencias que están completamente almacenadas en la memoria de la computadora. Los objetos range, enumerate y zip son objetos especiales que liberan un valor uno por uno. El almacenamiento que toman estos objetos lo toma una función que genera la secuencia y un estado que describe lo que estaba haciendo el objeto especial en el momento en que entregó un valor.\n",
    "#### Una función normal genera un valor (por ejemplo, una lista) y después de esa generación, toda la función desaparece de la memoria de la computadora. Si se vuelve a llamar es como si se llamara a la función por primera vez\n",
    "#### Un objeto generador permanece en la memoria, como una computadora en hibernación. Si una computadora está en hibernación, simplemente comienza de nuevo donde se quedó, un objeto generador también sabe exactamente dónde estaba cuando se lo vuelve a llamar.\n",
    "#### La ventaja es que solo tiene que almacenar la función que produce los valores y no toda la lista resultante. Esto puede ahorrar mucho espacio en la memoria.\n",
    "#### Técnicamente, esto se hace mediante la declaración de rendimiento. La próxima semana discutiremos las funciones y le mostraremos cómo usar la declaración de rendimiento usted mismo."
   ]
  },
  {
   "cell_type": "markdown",
   "metadata": {},
   "source": [
    "#### Sinataxis\n",
    "```python\n",
    "for <name> in <string|list|tuple|set|dictionary|range object|enumerate object|zip object>:\n",
    "    <statement-1>\n",
    "    <statement-2>\n",
    "    ...\n",
    "else:                # condicional else es opcionl     \n",
    "    <statement-3>    # Todos estos statements son ejecutados a menos que haya un break o ser termine el bucle\n",
    "    <statement-4>    \n",
    "    ...\n",
    "<|> : Significa or \n",
    "<statement-1> and <statement-2> pueden ser <break> or <continue>\n",
    "<break> para el bucle and el programa se ejcuta una sola vez\n",
    "<continue> para las iteraciones y ejecuta la siguiente iteracion y se acaba\n",
    "```"
   ]
  },
  {
   "cell_type": "markdown",
   "metadata": {},
   "source": [
    "### For-loop iterando sobre una cadena o string"
   ]
  },
  {
   "cell_type": "code",
   "execution_count": 19,
   "metadata": {},
   "outputs": [
    {
     "name": "stdout",
     "output_type": "stream",
     "text": [
      "a\n",
      "b\n",
      "c\n",
      "d\n"
     ]
    }
   ],
   "source": [
    "string_1= 'abcd'\n",
    "for letra in string_1:\n",
    "    print(letra)"
   ]
  },
  {
   "cell_type": "code",
   "execution_count": 21,
   "metadata": {},
   "outputs": [
    {
     "name": "stdout",
     "output_type": "stream",
     "text": [
      "No encontre\n",
      "Ready\n"
     ]
    }
   ],
   "source": [
    "string_1 = 'abcd'\n",
    "\n",
    "for letra in string_1:\n",
    "    if letra == 'e':\n",
    "        print('Encontre')\n",
    "        break\n",
    "else:\n",
    "    print(\"No encontre\")\n",
    "\n",
    "print(\"Ready\")    "
   ]
  },
  {
   "cell_type": "code",
   "execution_count": 24,
   "metadata": {},
   "outputs": [
    {
     "name": "stdout",
     "output_type": "stream",
     "text": [
      "Encontre\n",
      "Ready\n"
     ]
    }
   ],
   "source": [
    "string_1  =  'abcd'\n",
    "for character in string_1:\n",
    "    if character  ==  'b':\n",
    "        print('Encontre')\n",
    "        #break util cuando hay variables grandes y ya no continua\n",
    "        #continue es para que siga y es util cuando tenemos varias condiciones\n",
    "        break\n",
    "else:\n",
    "    print('No encontre')\n",
    "print('Ready')    "
   ]
  },
  {
   "cell_type": "code",
   "execution_count": 25,
   "metadata": {},
   "outputs": [
    {
     "name": "stdout",
     "output_type": "stream",
     "text": [
      "Didn't find it\n",
      "Ready\n"
     ]
    }
   ],
   "source": [
    "string_1  =  'abcd'\n",
    "for character in string_1:\n",
    "    if character  ==  'e':\n",
    "        print('Found it')\n",
    "        break\n",
    "else:\n",
    "    print('Didn\\'t find it')\n",
    "print('Ready')    "
   ]
  },
  {
   "cell_type": "markdown",
   "metadata": {},
   "source": [
    "#### For-loop iterando sobre un contenedor (lista, tupla, conjunto, diccionario)\n",
    "#### Tenga en cuenta que iterar sobre un diccionario puede ser un poco confuso:\n",
    "* #### Si solo iteras sobre el diccionario, en realidad iteras sobre las keys\n",
    "* #### Si desea iterar sobre los valores del diccionario, debe usar el método de values()\n",
    "* #### Si desea iterar sobre los elementos del diccionario (las combinaciones de key y valor), debe usar el método items()"
   ]
  },
  {
   "cell_type": "code",
   "execution_count": 26,
   "metadata": {},
   "outputs": [
    {
     "name": "stdout",
     "output_type": "stream",
     "text": [
      "Found it\n",
      "ready\n"
     ]
    }
   ],
   "source": [
    "list_1  =  ['a', 'b', 'c', 'd']\n",
    "for character in list_1:\n",
    "    if character  ==  'b':\n",
    "        print('Found it')\n",
    "        break\n",
    "else:\n",
    "    print('Didn\\'t find it')\n",
    "print('ready')    "
   ]
  },
  {
   "cell_type": "code",
   "execution_count": 27,
   "metadata": {},
   "outputs": [
    {
     "name": "stdout",
     "output_type": "stream",
     "text": [
      "Didn't find it\n",
      "ready\n"
     ]
    }
   ],
   "source": [
    "tuple_1  =  'a', 'b', 'c', 'd'\n",
    "for character in tuple_1:\n",
    "    if character  ==  'e':\n",
    "        print('Found it')\n",
    "        break\n",
    "else:\n",
    "    print('Didn\\'t find it')\n",
    "print('ready')    "
   ]
  },
  {
   "cell_type": "code",
   "execution_count": 34,
   "metadata": {},
   "outputs": [
    {
     "name": "stdout",
     "output_type": "stream",
     "text": [
      "c\n",
      "b\n",
      "a\n",
      "Found it\n",
      "ready\n"
     ]
    }
   ],
   "source": [
    "set_1  =  {'a', 'b', 'c', 'd'}\n",
    "for letra in set_1:\n",
    "    print(letra)\n",
    "    if letra  ==  'a':\n",
    "        print('Found it')\n",
    "        break \n",
    "else:\n",
    "    print('Didn\\'t find it')\n",
    "print('ready')    "
   ]
  },
  {
   "cell_type": "code",
   "execution_count": 35,
   "metadata": {},
   "outputs": [
    {
     "name": "stdout",
     "output_type": "stream",
     "text": [
      "1\n",
      "2\n",
      "3\n",
      "4\n"
     ]
    }
   ],
   "source": [
    "diccionario1={1:'a', 2:'b', 3:'c', 4:'d'}\n",
    "for valores in diccionario1:\n",
    "    print(valores)"
   ]
  },
  {
   "cell_type": "code",
   "execution_count": 37,
   "metadata": {},
   "outputs": [
    {
     "name": "stdout",
     "output_type": "stream",
     "text": [
      "a\n",
      "b\n",
      "c\n",
      "d\n"
     ]
    }
   ],
   "source": [
    "dictionary_1  =  {1:'a', 2:'b', 3:'c', 4:'d'}\n",
    "for character in dictionary_1.values():\n",
    "    print(character)"
   ]
  },
  {
   "cell_type": "code",
   "execution_count": 48,
   "metadata": {
    "scrolled": true
   },
   "outputs": [
    {
     "name": "stdout",
     "output_type": "stream",
     "text": [
      "dict_values(['a', 'b', 'c', 'd'])\n"
     ]
    }
   ],
   "source": [
    "print(diccionario1.values())"
   ]
  },
  {
   "cell_type": "code",
   "execution_count": 39,
   "metadata": {},
   "outputs": [
    {
     "name": "stdout",
     "output_type": "stream",
     "text": [
      "Found it\n",
      "ready\n"
     ]
    }
   ],
   "source": [
    "dictionary_1  =  {1:'a', 2:'b', 3:'c', 4:'d'}\n",
    "for character in dictionary_1:\n",
    "    if character  ==  1:\n",
    "        print('Found it')\n",
    "        break\n",
    "else:\n",
    "    print('dictionary_1idn\\'t find it')\n",
    "print('ready')"
   ]
  },
  {
   "cell_type": "code",
   "execution_count": 40,
   "metadata": {},
   "outputs": [
    {
     "name": "stdout",
     "output_type": "stream",
     "text": [
      "Found it\n",
      "ready\n"
     ]
    }
   ],
   "source": [
    "dictionary_1  =  {1:'a', 2:'b', 3:'c', 4:'d'}\n",
    "for character in dictionary_1.keys():\n",
    "    if character  ==  1:\n",
    "        print('Found it')\n",
    "        break\n",
    "else:\n",
    "    print('dictionary_1idn\\'t find it')\n",
    "print('ready')"
   ]
  },
  {
   "cell_type": "code",
   "execution_count": 47,
   "metadata": {},
   "outputs": [
    {
     "name": "stdout",
     "output_type": "stream",
     "text": [
      "Found it\n",
      "ready\n"
     ]
    }
   ],
   "source": [
    "dictionary_1  =  {1:'a', 2:'b', 3:'c', 4:'d'}\n",
    "for character in dictionary_1:\n",
    "    if character  == 1:\n",
    "        print('Found it')\n",
    "        break\n",
    "else:\n",
    "    print('dictionary_1idn\\'t find it')\n",
    "print('ready')"
   ]
  },
  {
   "cell_type": "code",
   "execution_count": 45,
   "metadata": {},
   "outputs": [
    {
     "name": "stdout",
     "output_type": "stream",
     "text": [
      "Found it, character b has key 2\n",
      "ready\n"
     ]
    }
   ],
   "source": [
    "dictionary_1  =  {1:'a', 2:'b', 3:'c', 4:'d'}\n",
    "for key, character in dictionary_1.items():\n",
    "    if character  ==  'b':\n",
    "        print(f'Found it, character {character} has key {key}')\n",
    "        break\n",
    "else:\n",
    "    print('dictionary_1idn\\'t find it')\n",
    "print('ready')"
   ]
  },
  {
   "cell_type": "markdown",
   "metadata": {},
   "source": [
    "#### ¿Qué es un rango?\n",
    "#### Puede comparar un rango con una porción de una lista, como puede ver en los siguientes ejemplos. La diferencia es que una porción de una lista se almacenará completa como un nuevo objeto de lista en la memoria de la computadora, mientras que un objeto de rango no almacena todos los valores a la vez en la memoria, pero cada vez que se usa entregará el siguiente valor."
   ]
  },
  {
   "cell_type": "markdown",
   "metadata": {},
   "source": [
    "#### Sintaxis\n",
    "```python\n",
    "for <variable> in range(<start><end><step>):\n",
    "    <statement-1>\n",
    "    <statement-2>\n",
    "    ...\n",
    "else:                    \n",
    "    <statement-3>    \n",
    "    <statement-3>    \n",
    "    ...\n",
    "<start><end><step> funciona exactamente como recortar una cadena o una lista, etc, asi que si quieres revisa otra vez y acuerdate que el valor final no esta incluido. Hay los mismos datos par <empezar> y <step>. Por default el inicio es 0, para step es 1.para el final no hay default asi que un obheto range necesita al menos un valor\n",
    "\n",
    "```"
   ]
  },
  {
   "cell_type": "code",
   "execution_count": 55,
   "metadata": {},
   "outputs": [
    {
     "name": "stdout",
     "output_type": "stream",
     "text": [
      "<class 'range'> range(2, 9, 2)\n"
     ]
    }
   ],
   "source": [
    "range_1 = range(2, 9, 2) # en el que inicia, termina y los pasos ( por ejemplo de dos en dos)\n",
    "print(type(range_1), range_1)\n",
    "#crea lista que no se guarda sino se crea y se elimina\n",
    "# no se incluye el ultimo paso y si queremos que se parte ponemos 9"
   ]
  },
  {
   "cell_type": "code",
   "execution_count": 56,
   "metadata": {},
   "outputs": [
    {
     "name": "stdout",
     "output_type": "stream",
     "text": [
      "[2, 4, 6, 8]\n"
     ]
    }
   ],
   "source": [
    "print(list(range_1))"
   ]
  },
  {
   "cell_type": "code",
   "execution_count": 57,
   "metadata": {},
   "outputs": [
    {
     "name": "stdout",
     "output_type": "stream",
     "text": [
      "True\n"
     ]
    }
   ],
   "source": [
    "list_1 = [0, 1, 2, 3, 4, 5, 6, 7, 8, 9, 10]\n",
    "print(list(range(2, 8, 2)) == list_1[2:8:2])"
   ]
  },
  {
   "cell_type": "code",
   "execution_count": 58,
   "metadata": {},
   "outputs": [
    {
     "name": "stdout",
     "output_type": "stream",
     "text": [
      "True\n"
     ]
    }
   ],
   "source": [
    "print(list(range(2, 4, 2)) == [0, 1, 2, 3, 4, 5, 6, 7, 8, 9, 10][2:4:2])"
   ]
  },
  {
   "cell_type": "markdown",
   "metadata": {},
   "source": [
    "#### Puede usar la iteración en un rango si sabe exactamente cuántas veces desea ejecutar el bloque de codificación"
   ]
  },
  {
   "cell_type": "markdown",
   "metadata": {},
   "source": [
    "#### Ejemplo-1: puede usar un _ si no necesita el valor\n",
    "#### NB esto es una convención. En Python, se supone que no debe usar nombres que comiencen con uno _, sin embargo, puede hacerlo."
   ]
  },
  {
   "cell_type": "code",
   "execution_count": 59,
   "metadata": {},
   "outputs": [
    {
     "name": "stdout",
     "output_type": "stream",
     "text": [
      "1\n",
      "1\n",
      "1\n",
      "1\n",
      "1\n"
     ]
    }
   ],
   "source": [
    "# Es Pythonic y se ve avanzado pero es muy simple :)\n",
    "for _ in range(5): \n",
    "    print(1)"
   ]
  },
  {
   "cell_type": "code",
   "execution_count": 61,
   "metadata": {},
   "outputs": [
    {
     "name": "stdout",
     "output_type": "stream",
     "text": [
      "0\n",
      "1\n",
      "2\n",
      "3\n",
      "4\n"
     ]
    }
   ],
   "source": [
    "# No tan Pythonic pero funciona \n",
    "for _ in range(5): \n",
    "    print(_)"
   ]
  },
  {
   "cell_type": "markdown",
   "metadata": {},
   "source": [
    "#### Ejemplo-2: usar un nombre que debe ser guardado"
   ]
  },
  {
   "cell_type": "code",
   "execution_count": 66,
   "metadata": {},
   "outputs": [
    {
     "name": "stdout",
     "output_type": "stream",
     "text": [
      "30\n"
     ]
    }
   ],
   "source": [
    "sum_of_integers = 0\n",
    "for i in range(5):\n",
    "    sum_of_integers += i**2\n",
    "print(sum_of_integers)"
   ]
  },
  {
   "cell_type": "code",
   "execution_count": 8,
   "metadata": {},
   "outputs": [
    {
     "name": "stdout",
     "output_type": "stream",
     "text": [
      "0\n",
      "1\n",
      "4\n",
      "9\n",
      "16\n"
     ]
    }
   ],
   "source": [
    "# el += -= es suma de enteros o resta, multiplicacion \n",
    "sum_of_integers = 0\n",
    "for i in range(5):\n",
    "    print(i**2)\n",
    "    sum_of_integers=sum_of_integers +i**2\n",
    "    sum_of_integers += i**2\n",
    "#print(sum_of_integers)"
   ]
  },
  {
   "cell_type": "markdown",
   "metadata": {},
   "source": [
    "### For-loop iterando sobre un objeto enumerado\n",
    "#### Un objeto de enumeración crea un índice para los elementos en una secuencia\n",
    "#### Algunas secuencias como conjuntos y diccionarios no tienen un índice numérico pero desea usar un índice\n",
    "#### A veces desea comenzar el índice con un número diferente, p. 1\n",
    "#### El objeto de enumeración necesita dos parámetros, una secuencia y un índice inicial, cuyo valor predeterminado es 0"
   ]
  },
  {
   "cell_type": "code",
   "execution_count": 69,
   "metadata": {
    "scrolled": true
   },
   "outputs": [
    {
     "name": "stdout",
     "output_type": "stream",
     "text": [
      "index is 0, digit is d\n",
      "index is 1, digit is f\n",
      "index is 2, digit is w\n",
      "index is 3, digit is jk\n"
     ]
    }
   ],
   "source": [
    "for index, digit in enumerate(['d', 'f', 'w', 'jk']) :\n",
    "    print(f\"index is {index}, digit is {digit}\")"
   ]
  },
  {
   "cell_type": "code",
   "execution_count": 70,
   "metadata": {
    "scrolled": true
   },
   "outputs": [
    {
     "name": "stdout",
     "output_type": "stream",
     "text": [
      "index is 1, digit is 1\n",
      "index is 2, digit is 2\n",
      "index is 3, digit is 3\n",
      "index is 4, digit is 2\n"
     ]
    }
   ],
   "source": [
    "for index, digit in enumerate((1, 2, 3, 2), 1):\n",
    "    #comienza en 1 por eso ponemos la coma 1\n",
    "    print(f\"index is {index}, digit is {digit}\")"
   ]
  },
  {
   "cell_type": "code",
   "execution_count": 71,
   "metadata": {
    "scrolled": true
   },
   "outputs": [
    {
     "name": "stdout",
     "output_type": "stream",
     "text": [
      "index is 2, digit is 1\n",
      "index is 3, digit is 2\n",
      "index is 4, digit is 3\n"
     ]
    }
   ],
   "source": [
    "for index, digit in enumerate({1, 2, 3, 2}, 2):\n",
    "    print(f\"index is {index}, digit is {digit}\")"
   ]
  },
  {
   "cell_type": "code",
   "execution_count": 72,
   "metadata": {
    "scrolled": true
   },
   "outputs": [
    {
     "name": "stdout",
     "output_type": "stream",
     "text": [
      "index is 3, letter is a\n",
      "index is 4, letter is b\n",
      "index is 5, letter is c\n",
      "index is 6, letter is d\n",
      "index is 7, letter is e\n"
     ]
    }
   ],
   "source": [
    "for index, letter in enumerate('abcde', 3):\n",
    "    print(f\"index is {index}, letter is {letter}\")"
   ]
  },
  {
   "cell_type": "markdown",
   "metadata": {},
   "source": [
    "### For-loop iterando sobre un objeto zip \n",
    "#### Un objeto tiene dos o mas objetos juntos"
   ]
  },
  {
   "cell_type": "code",
   "execution_count": 73,
   "metadata": {
    "scrolled": true
   },
   "outputs": [
    {
     "name": "stdout",
     "output_type": "stream",
     "text": [
      "digit is 1,  letter is a\n",
      "digit is 2,  letter is b\n",
      "digit is 3,  letter is c\n"
     ]
    }
   ],
   "source": [
    "for digit,  letter in zip([1, 2, 3], ['a', 'b', 'c']) :\n",
    "    print(f\"digit is {digit},  letter is {letter}\")"
   ]
  },
  {
   "cell_type": "markdown",
   "metadata": {},
   "source": [
    "#### Entonces puede comprimir dos listas juntas, pero en realidad puede comprimir todo tipo de secuencias juntas. Tenga en cuenta que si una de las secuencias es un diccionario, comprima las claves y no los valores"
   ]
  },
  {
   "cell_type": "code",
   "execution_count": 74,
   "metadata": {
    "scrolled": true
   },
   "outputs": [
    {
     "name": "stdout",
     "output_type": "stream",
     "text": [
      "<zip object at 0x00000263BA828EC0>\n",
      "[(1, 'a'), (2, 'b'), (3, 'c')]\n"
     ]
    }
   ],
   "source": [
    "digits_and_letters = zip([1, 2, 3], ['a', 'b', 'c'])\n",
    "print(digits_and_letters)\n",
    "print(list(digits_and_letters))"
   ]
  },
  {
   "cell_type": "code",
   "execution_count": 75,
   "metadata": {
    "scrolled": true
   },
   "outputs": [
    {
     "name": "stdout",
     "output_type": "stream",
     "text": [
      "[(1, 'a'), (2, 'b'), (3, 'c')]\n"
     ]
    }
   ],
   "source": [
    "digits_and_letters = zip([1, 2, 3], ('a', 'b', 'c'))\n",
    "print(list(digits_and_letters))"
   ]
  },
  {
   "cell_type": "code",
   "execution_count": 76,
   "metadata": {
    "scrolled": true
   },
   "outputs": [
    {
     "name": "stdout",
     "output_type": "stream",
     "text": [
      "[('1', 'c'), ('2', 'b'), ('3', 'a')]\n"
     ]
    }
   ],
   "source": [
    "digits_and_letters = zip(('1', '2', '3'), {'a', 'b', 'c'})\n",
    "print(list(digits_and_letters))"
   ]
  },
  {
   "cell_type": "code",
   "execution_count": 77,
   "metadata": {
    "scrolled": true
   },
   "outputs": [
    {
     "name": "stdout",
     "output_type": "stream",
     "text": [
      "[(1, 1), (2, 2), (3, 3)]\n"
     ]
    }
   ],
   "source": [
    "digits_and_letters = zip([1, 2, 3], {1:'a', 2:'b', 3:'c'})\n",
    "print(list(digits_and_letters))"
   ]
  },
  {
   "cell_type": "code",
   "execution_count": 80,
   "metadata": {},
   "outputs": [
    {
     "name": "stdout",
     "output_type": "stream",
     "text": [
      "[(1, 'a'), (2, 'b'), (3, 'c')]\n"
     ]
    }
   ],
   "source": [
    "digits_and_letters = zip([1, 2, 3], {1:'a', 2:'b', 3:'c'}.values())\n",
    "print(list(digits_and_letters))"
   ]
  },
  {
   "cell_type": "markdown",
   "metadata": {},
   "source": [
    "#### Puedes comprimir más de 2 secuencias juntas"
   ]
  },
  {
   "cell_type": "code",
   "execution_count": 78,
   "metadata": {
    "scrolled": true
   },
   "outputs": [
    {
     "name": "stdout",
     "output_type": "stream",
     "text": [
      "[(1, 'a', 'g'), (2, 'b', 'h'), (3, 'c', 'i')]\n"
     ]
    }
   ],
   "source": [
    "digits_and_letters = zip([1, 2, 3], ('a', 'b', 'c'), 'ghi')\n",
    "print(list(digits_and_letters))"
   ]
  },
  {
   "cell_type": "markdown",
   "metadata": {},
   "source": [
    "#### Cuando desea comprimir secuencias de diferentes longitudes, el contenedor con la longitud más corta decide el resultado"
   ]
  },
  {
   "cell_type": "code",
   "execution_count": 81,
   "metadata": {
    "scrolled": true
   },
   "outputs": [
    {
     "name": "stdout",
     "output_type": "stream",
     "text": [
      "[(1, 'a'), (2, 'b'), (3, 'c')]\n"
     ]
    }
   ],
   "source": [
    "digits_and_letters = zip([1,2,3,4,5,6,7,8,9,10], 'abc')\n",
    "print(list(digits_and_letters))"
   ]
  },
  {
   "cell_type": "markdown",
   "metadata": {},
   "source": [
    "## While-loop"
   ]
  },
  {
   "cell_type": "markdown",
   "metadata": {},
   "source": [
    "#### Sintaxis\n",
    "```python\n",
    "while <condition-1>:\n",
    "    <statement-1>\n",
    "    <statement-2>\n",
    "    ...\n",
    "else:                   \n",
    "    <statement-3>     \n",
    "    <statement-3>    \n",
    "    ...\n",
    "\n",
    "```"
   ]
  },
  {
   "cell_type": "markdown",
   "metadata": {},
   "source": [
    "### El while-loop es el bucle más simple implementado en Python. En estos días, los programadores usan principalmente bucles for-loop, ya que los bucles for-loop son más potentes que los bucles while-loop. Sin embargo, algunas tareas se realizan mejor con un bucle while-loop\n",
    "### En realidad, podría reemplazar todos los bucles for-loops por bucles while-loop, al revés no es posible"
   ]
  },
  {
   "cell_type": "markdown",
   "metadata": {},
   "source": [
    "#### Ejemplos"
   ]
  },
  {
   "cell_type": "code",
   "execution_count": null,
   "metadata": {},
   "outputs": [],
   "source": [
    "list_1."
   ]
  },
  {
   "cell_type": "code",
   "execution_count": null,
   "metadata": {},
   "outputs": [],
   "source": [
    "print(bool({}))"
   ]
  },
  {
   "cell_type": "code",
   "execution_count": null,
   "metadata": {},
   "outputs": [],
   "source": [
    "list_1 = ['a', 'b', 'c', 'd']\n",
    "\n",
    "while list_1:\n",
    "    print(list_1)\n",
    "    letter = list_1.pop(0)\n",
    "    print('1')"
   ]
  },
  {
   "cell_type": "code",
   "execution_count": 73,
   "metadata": {},
   "outputs": [
    {
     "name": "stdout",
     "output_type": "stream",
     "text": [
      "a\n",
      "b\n",
      "Found it\n",
      "ready\n"
     ]
    }
   ],
   "source": [
    "list_1 = ['a', 'b', 'c', 'd']\n",
    "\n",
    "\n",
    "while list_1:\n",
    "    letter = list_1.pop(0)\n",
    "\n",
    "    # El metodo pop lo que hace es que elimina un elemento de una lista y lo imprime\n",
    "    # pop(0) para eliiminar el primer valor\n",
    "    # pop(-1) elimina el ultimo valor\n",
    "    print(letter)\n",
    "    if letter == 'b':\n",
    "        print('Found it')\n",
    "        break\n",
    "else:\n",
    "    print('Didn\\'t find it')\n",
    "print('ready')"
   ]
  },
  {
   "cell_type": "code",
   "execution_count": null,
   "metadata": {
    "scrolled": true
   },
   "outputs": [],
   "source": [
    "list_1 = ['a', 'b', 'c', 'd']\n",
    "while list_1:\n",
    "    letter = list_1.pop(-1)\n",
    "    print(letter)\n",
    "    if letter == 'e':\n",
    "        print('Found it')\n",
    "        break\n",
    "else:\n",
    "    print('Didn\\'t find it')\n",
    "print('ready')"
   ]
  },
  {
   "cell_type": "code",
   "execution_count": null,
   "metadata": {
    "scrolled": true
   },
   "outputs": [],
   "source": [
    "list_1 = ['a', 'b', 'c', 'd']\n",
    "while list_1:\n",
    "    letter = list_1.pop(0)  \n",
    "    print(letter)"
   ]
  },
  {
   "cell_type": "code",
   "execution_count": null,
   "metadata": {
    "scrolled": true
   },
   "outputs": [],
   "source": [
    "list_1 = ['a', 'b', 'c', 'd']\n",
    "while list_1:\n",
    "    letter = list_1.pop(-1)  \n",
    "    print(letter)"
   ]
  },
  {
   "cell_type": "code",
   "execution_count": null,
   "metadata": {
    "scrolled": true
   },
   "outputs": [],
   "source": [
    "list_1 = ['a', 'b', 'c', 'd']\n",
    "while list_1:\n",
    "    letter = list_1.pop(-1)  \n",
    "    print(letter)"
   ]
  },
  {
   "cell_type": "markdown",
   "metadata": {},
   "source": [
    "#### Si bien la mayoría de los ejemplos anteriores también se pueden realizar fácilmente con un for-loop, el siguiente se realiza más fácilmente con un while-loop. Esta es una forma estándar en Python de probar la entrada proporcionada por el usuario."
   ]
  },
  {
   "cell_type": "code",
   "execution_count": 4,
   "metadata": {
    "scrolled": true
   },
   "outputs": [
    {
     "name": "stdout",
     "output_type": "stream",
     "text": [
      "What is your name?sami\n",
      "Your name is sami\n"
     ]
    }
   ],
   "source": [
    "\n",
    "while True:\n",
    "    name = input('What is your name?')\n",
    "    if name != '' and name.isalpha():\n",
    "        break\n",
    "print(f\"Your name is {name}\")         "
   ]
  },
  {
   "cell_type": "code",
   "execution_count": null,
   "metadata": {},
   "outputs": [],
   "source": [
    "print(input())\n"
   ]
  },
  {
   "cell_type": "code",
   "execution_count": 83,
   "metadata": {},
   "outputs": [
    {
     "name": "stdout",
     "output_type": "stream",
     "text": [
      "90\n",
      "mayor de edad\n"
     ]
    }
   ],
   "source": [
    "edad=input()\n",
    "if int(edad)>18:\n",
    "    print(\"mayor de edad\")"
   ]
  },
  {
   "cell_type": "code",
   "execution_count": 88,
   "metadata": {},
   "outputs": [],
   "source": [
    "name=\"pop\"\n",
    "name.isalpha?"
   ]
  },
  {
   "cell_type": "code",
   "execution_count": 92,
   "metadata": {},
   "outputs": [
    {
     "name": "stdout",
     "output_type": "stream",
     "text": [
      "cual es tu nombre?samira\n",
      "tu nombre es samira\n"
     ]
    }
   ],
   "source": [
    "while True:\n",
    "    name=input(\"cual es tu nombre?\")\n",
    "    if name != \" \" and name.isalpha():\n",
    "        break\n",
    "print (f\"tu nombre es {name}\")"
   ]
  },
  {
   "cell_type": "markdown",
   "metadata": {},
   "source": [
    "#### Al igual que con un for-loop, puede usar la instrucción continuar y romper en un while-loop. Hay una cosa complicada cuando se usa continuar dentro de un while-loop. El bucle se ejecutará sin probar la condición. Puedes verlo por ti mismo en el siguiente ejemplo. Antes de hacer eso, guarde su cuaderno haciendo clic en el primer icono en la tercera fila del cuaderno. Como la condición nunca se probará, creó un bucle infinito. Verá aparecer un asterisco a la izquierda del programa. Para salir del bucle, seleccione Kernel en el menú, seleccione Reiniciar, confirme el reinicio y debería estar listo para comenzar.\n",
    "#### No es una mala idea probar esto. Cada programador entrará en un bucle infinito de vez en cuando, así que es mejor que sepas qué hacer"
   ]
  },
  {
   "cell_type": "code",
   "execution_count": null,
   "metadata": {},
   "outputs": [],
   "source": [
    "a = 1\n",
    "while a < 12:\n",
    "    continue\n",
    "    a += 1\n",
    "    print(a)\n",
    "    break"
   ]
  },
  {
   "cell_type": "markdown",
   "metadata": {},
   "source": [
    "## Atajos"
   ]
  },
  {
   "cell_type": "markdown",
   "metadata": {},
   "source": [
    "### Conditional expressions"
   ]
  },
  {
   "cell_type": "markdown",
   "metadata": {},
   "source": [
    "#### Sinatxis de condicionales\n",
    "```python\n",
    "<expression-1> if <condition> else <expression-2>\n",
    "\n",
    "```"
   ]
  },
  {
   "cell_type": "markdown",
   "metadata": {},
   "source": [
    "#### Este condicional"
   ]
  },
  {
   "cell_type": "code",
   "execution_count": 27,
   "metadata": {},
   "outputs": [
    {
     "name": "stdout",
     "output_type": "stream",
     "text": [
      "High\n"
     ]
    }
   ],
   "source": [
    "integer_1 = 3\n",
    "if integer_1 > 2:\n",
    "    result = \"High\"\n",
    "else:\n",
    "    result = \"list_1ow\"\n",
    "print(result)    "
   ]
  },
  {
   "cell_type": "markdown",
   "metadata": {},
   "source": [
    "#### puede ser reemplazado por"
   ]
  },
  {
   "cell_type": "code",
   "execution_count": 96,
   "metadata": {},
   "outputs": [
    {
     "name": "stdout",
     "output_type": "stream",
     "text": [
      "High\n"
     ]
    }
   ],
   "source": [
    "integer_1 = 3\n",
    "result  =  \"High\" if integer_1 > 2 else \"Low\"\n",
    "print(result) "
   ]
  },
  {
   "cell_type": "markdown",
   "metadata": {},
   "source": [
    "#### o por esto"
   ]
  },
  {
   "cell_type": "code",
   "execution_count": 97,
   "metadata": {},
   "outputs": [
    {
     "name": "stdout",
     "output_type": "stream",
     "text": [
      "Low\n"
     ]
    }
   ],
   "source": [
    "integer_1 = 0\n",
    "print(\"High\" if integer_1 > 2 else \"Low\")"
   ]
  },
  {
   "cell_type": "markdown",
   "metadata": {},
   "source": [
    "### Listas y otras comprensiones"
   ]
  },
  {
   "cell_type": "markdown",
   "metadata": {},
   "source": [
    "#### Sintaxis de comprensiones\n",
    "```python\n",
    "[<expression> for <variable> in <list> if <condition>] # comprensino de lista\n",
    "{<expression-1>:<expression-2> for <variable> in <list> if <condition>} # comprension para diccionario\n",
    "{<expression> for <variable> in <list> if <condition>} # comprension para set \n",
    "(<expression> for <variable> in <list> if <condition>) \n",
    "# la clausula if no es necesaria \n",
    "```"
   ]
  },
  {
   "cell_type": "markdown",
   "metadata": {},
   "source": [
    "#### This for-loop"
   ]
  },
  {
   "cell_type": "code",
   "execution_count": 99,
   "metadata": {},
   "outputs": [
    {
     "name": "stdout",
     "output_type": "stream",
     "text": [
      "2.5\n"
     ]
    }
   ],
   "source": [
    "print(5/2)"
   ]
  },
  {
   "cell_type": "code",
   "execution_count": 100,
   "metadata": {},
   "outputs": [
    {
     "name": "stdout",
     "output_type": "stream",
     "text": [
      "1\n"
     ]
    }
   ],
   "source": [
    "print(5%2) #residuo de la división"
   ]
  },
  {
   "cell_type": "code",
   "execution_count": 29,
   "metadata": {},
   "outputs": [
    {
     "name": "stdout",
     "output_type": "stream",
     "text": [
      "[4, 16]\n"
     ]
    }
   ],
   "source": [
    "list_1 = [1, 2, 3, 4]\n",
    "result = []\n",
    "for n in list_1:\n",
    "    # el operador % da el residuo de una division\n",
    "    # esto es llamado el modulo 2 \n",
    "    # enronces probamos si es que n es impar\n",
    "    # n % 2 == 1 es verdadero si n es impar \n",
    "    if n % 2 == 0:\n",
    "        # agregamos el resultado a una lista\n",
    "        result.append(n**2)\n",
    "print(result)"
   ]
  },
  {
   "cell_type": "code",
   "execution_count": 98,
   "metadata": {},
   "outputs": [
    {
     "name": "stdout",
     "output_type": "stream",
     "text": [
      "0.25\n"
     ]
    }
   ],
   "source": [
    "print(1/4)"
   ]
  },
  {
   "cell_type": "markdown",
   "metadata": {},
   "source": [
    "#### puede ser reemplazado por una comprension de lista"
   ]
  },
  {
   "cell_type": "code",
   "execution_count": 38,
   "metadata": {
    "scrolled": true
   },
   "outputs": [
    {
     "name": "stdout",
     "output_type": "stream",
     "text": [
      "[4, 16]\n"
     ]
    }
   ],
   "source": [
    "list_1 = [1, 2, 3, 4]\n",
    "result  =  [n ** 2 for n in list_1 if n % 2 == 0 ] # crea una lista\n",
    "print(result)"
   ]
  },
  {
   "cell_type": "markdown",
   "metadata": {},
   "source": [
    "#### Tambien podemos crear un diccionario de esta manera"
   ]
  },
  {
   "cell_type": "code",
   "execution_count": 105,
   "metadata": {},
   "outputs": [
    {
     "name": "stdout",
     "output_type": "stream",
     "text": [
      "{2: 4, 4: 16}\n",
      "[(2, 4), (4, 16)]\n",
      "[2, 4]\n",
      "[4, 16]\n"
     ]
    }
   ],
   "source": [
    "list_1 = [1, 2, 3, 4]\n",
    "result  =  {n:n ** 2 for n in list_1 if n % 2 == 0}\n",
    "print(result)\n",
    "# El metodo items de un diccionario da una lista de tuplas cada una con su key y su valor\n",
    "print(list(result.items()))\n",
    "# lista de keys\n",
    "print(list(result.keys()))\n",
    "# Lista de resultados\n",
    "print(list(result.values()))"
   ]
  },
  {
   "cell_type": "code",
   "execution_count": 101,
   "metadata": {},
   "outputs": [
    {
     "name": "stdout",
     "output_type": "stream",
     "text": [
      "{16, 4}\n"
     ]
    }
   ],
   "source": [
    "list_1 = [1, 2, 3, 4]\n",
    "result  =  {n ** 2 for n in list_1 if n % 2 == 0}\n",
    "print(result)"
   ]
  },
  {
   "cell_type": "code",
   "execution_count": 102,
   "metadata": {},
   "outputs": [
    {
     "name": "stdout",
     "output_type": "stream",
     "text": [
      "<generator object <genexpr> at 0x00000263BA83F5F0>\n"
     ]
    }
   ],
   "source": [
    "list_1 = [1, 2, 3, 4]\n",
    "result  =  (n ** 2 for n in list_1 if n % 2 == 0)\n",
    "print(result)\n",
    "# mas parecido a crear un rango "
   ]
  },
  {
   "cell_type": "code",
   "execution_count": 32,
   "metadata": {},
   "outputs": [
    {
     "name": "stdout",
     "output_type": "stream",
     "text": [
      "4\n",
      "16\n"
     ]
    }
   ],
   "source": [
    "for x in result:\n",
    "    print(x)"
   ]
  },
  {
   "cell_type": "markdown",
   "metadata": {},
   "source": [
    "### No hay una comprension para una tupla pero esto funciona"
   ]
  },
  {
   "cell_type": "code",
   "execution_count": 1,
   "metadata": {},
   "outputs": [
    {
     "name": "stdout",
     "output_type": "stream",
     "text": [
      "(4, 16)\n"
     ]
    }
   ],
   "source": [
    "list_1 = [1, 2, 3, 4]\n",
    "# We construct a generator object \n",
    "result  =  (n ** 2 for n in list_1 if n % 2 == 0)\n",
    "# which we convert into a tuple\n",
    "result = tuple(result)\n",
    "print(result)"
   ]
  },
  {
   "cell_type": "markdown",
   "metadata": {},
   "source": [
    "### Si quieres saber por qué no hay comprensiones de tuplas? Googlea 'comprensiones de tupla de Python'. Encontrarás como uno de los primeros resultados [https://stackoverflow.com/questions/16940293/why-is-there-no-tuple-comprehension-in-python](https://stackoverflow.com/questions/16940293 /why-is-there-no-tuple-comprehension-in-python), lea las preguntas y respuestas si está interesado y recuerda que si tienes una pregunta un poco difícil googlea, los resultados en [https://stackoverflow ](https://stackoverflow) son realmente los primeros en aparcer. "
   ]
  },
  {
   "cell_type": "markdown",
   "metadata": {},
   "source": [
    "# Preguntas "
   ]
  },
  {
   "cell_type": "markdown",
   "metadata": {},
   "source": [
    "## 1 Programa la impresión de una tabla de multiplicar para todos los números entre 1 y 10, usando For-loops\n",
    "## Rendimiento esperado:\n",
    "     1   times  1  =    1\n",
    "     1   times  2  =    2\n",
    "     ...\n",
    "     1   times 10  =   10\n",
    "     ...\n",
    "    10   times 10  =  100  "
   ]
  },
  {
   "cell_type": "code",
   "execution_count": 20,
   "metadata": {},
   "outputs": [
    {
     "name": "stdout",
     "output_type": "stream",
     "text": [
      "Ingrese un número entero:10\n",
      "1*10=10\n",
      "2*10=20\n",
      "3*10=30\n",
      "4*10=40\n",
      "5*10=50\n",
      "6*10=60\n",
      "7*10=70\n",
      "8*10=80\n",
      "9*10=90\n",
      "10*10=100\n"
     ]
    }
   ],
   "source": [
    "tabla_de_multiplicar=int(input(\"Ingrese un número entero:\"))\n",
    "for i in range (1,11):\n",
    "    print(f'{i}*{tabla_de_multiplicar}={i*tabla_de_multiplicar}')\n"
   ]
  },
  {
   "cell_type": "markdown",
   "metadata": {},
   "source": [
    "## 2 Programe un calendario (para todos los meses) para 2020 usando For-loops\n",
    "## Rendimiento esperado:\n",
    "     January                     \n",
    "     Mon Tue Wed Thu Fri Sat Sun  \n",
    "              1   2   3   4   5\n",
    "      6   7   8   9  10  11  12\n",
    "     13  14  15  16  17  18  19\n",
    "     20  21  22  23  24  25  26\n",
    "     27  28  29  30  31\n",
    "     \n",
    "     February\n",
    "     Mon Tue Wed Thu Fri Sat Sun\n",
    "                           1   2"
   ]
  },
  {
   "cell_type": "code",
   "execution_count": 22,
   "metadata": {},
   "outputs": [
    {
     "name": "stdout",
     "output_type": "stream",
     "text": [
      "                              2020\n",
      "\n",
      "      January               February               March\n",
      "Su Mo Tu We Th Fr Sa  Su Mo Tu We Th Fr Sa  Su Mo Tu We Th Fr Sa\n",
      "          1  2  3  4                     1   1  2  3  4  5  6  7\n",
      " 5  6  7  8  9 10 11   2  3  4  5  6  7  8   8  9 10 11 12 13 14\n",
      "12 13 14 15 16 17 18   9 10 11 12 13 14 15  15 16 17 18 19 20 21\n",
      "19 20 21 22 23 24 25  16 17 18 19 20 21 22  22 23 24 25 26 27 28\n",
      "26 27 28 29 30 31     23 24 25 26 27 28 29  29 30 31\n",
      "\n",
      "       April                  May                   June\n",
      "Su Mo Tu We Th Fr Sa  Su Mo Tu We Th Fr Sa  Su Mo Tu We Th Fr Sa\n",
      "          1  2  3  4                  1  2      1  2  3  4  5  6\n",
      " 5  6  7  8  9 10 11   3  4  5  6  7  8  9   7  8  9 10 11 12 13\n",
      "12 13 14 15 16 17 18  10 11 12 13 14 15 16  14 15 16 17 18 19 20\n",
      "19 20 21 22 23 24 25  17 18 19 20 21 22 23  21 22 23 24 25 26 27\n",
      "26 27 28 29 30        24 25 26 27 28 29 30  28 29 30\n",
      "                      31\n",
      "\n",
      "        July                 August              September\n",
      "Su Mo Tu We Th Fr Sa  Su Mo Tu We Th Fr Sa  Su Mo Tu We Th Fr Sa\n",
      "          1  2  3  4                     1         1  2  3  4  5\n",
      " 5  6  7  8  9 10 11   2  3  4  5  6  7  8   6  7  8  9 10 11 12\n",
      "12 13 14 15 16 17 18   9 10 11 12 13 14 15  13 14 15 16 17 18 19\n",
      "19 20 21 22 23 24 25  16 17 18 19 20 21 22  20 21 22 23 24 25 26\n",
      "26 27 28 29 30 31     23 24 25 26 27 28 29  27 28 29 30\n",
      "                      30 31\n",
      "\n",
      "      October               November              December\n",
      "Su Mo Tu We Th Fr Sa  Su Mo Tu We Th Fr Sa  Su Mo Tu We Th Fr Sa\n",
      "             1  2  3   1  2  3  4  5  6  7         1  2  3  4  5\n",
      " 4  5  6  7  8  9 10   8  9 10 11 12 13 14   6  7  8  9 10 11 12\n",
      "11 12 13 14 15 16 17  15 16 17 18 19 20 21  13 14 15 16 17 18 19\n",
      "18 19 20 21 22 23 24  22 23 24 25 26 27 28  20 21 22 23 24 25 26\n",
      "25 26 27 28 29 30 31  29 30                 27 28 29 30 31\n",
      "\n"
     ]
    }
   ],
   "source": [
    "import calendar  # funcion que tiene phyton para hacer calendarios\n",
    "calendario= calendar.TextCalendar(calendar.SUNDAY) #indicamos el primer día de la semana\n",
    "print(calendario.formatyear(2020,2,1,1,3))# funcion formtyear , ancho (de la columna), una semana por linea y espacio entre columnas de mes"
   ]
  },
  {
   "cell_type": "markdown",
   "metadata": {},
   "source": [
    "## 3 Programe la siguiente regulación fiscal, usando datos ficticios con declaraciones condicionales, use las tres cláusulas (if, elif, else) al menos una vez\n",
    "Si el valor del paquete es inferior a 20 no tienes que pagar ningún impuesto de importación\n",
    "Si el valor del paquete está entre 20 y 30 pagas 10% de impuesto de importación sobre el valor total\n",
    "Si el valor del paquete está entre 30 y 60, paga un impuesto de importación adicional del 7% sobre el valor superior a 30\n",
    "Si el valor del paquete es superior a 60, paga un impuesto de importación adicional del 3% sobre el valor superior a 60\n",
    "\n",
    "Si el valor del paquete es superior a 10 pagas el 20% de IVA sobre la suma total del valor e impuesto de importación\n",
    "\n",
    "El valor del paquete debe establecerse en una variable y debe probar si su programa funciona para diferentes valores.\n",
    "### Salida esperada (ejemplo):\n",
    "El valor del paquete fue de 25,00, el impuesto de importación es de 2,50, el IVA es de 5,50, el total es de 33,00."
   ]
  },
  {
   "cell_type": "code",
   "execution_count": 61,
   "metadata": {},
   "outputs": [
    {
     "name": "stdout",
     "output_type": "stream",
     "text": [
      "Ingrese el valor del paquete:2\n",
      "no paga impuesto de importación valor del paquete 2 El impuesto de importación es 0 su valor total es 2\n"
     ]
    }
   ],
   "source": [
    "valor_del_paquete=int(input(\"Ingrese el valor del paquete:\"))\n",
    "# valor del paquete : si es inferior a 20  no paga impuesto, si esta entre 20 y 30 paga 10%, si esta entre 30 y 60 paga 17%\n",
    "# si es superior a 60 paga 20%\n",
    "while valor_del_paquete:\n",
    "    if (valor_del_paquete >10 and valor_del_paquete<20):\n",
    "        print (\"no paga impuesto de importación\" ,\n",
    "                \"valor del paquete\" , valor_del_paquete ,\n",
    "                \"El impuesto de importación es 0\" ,\n",
    "                \"El valor del IVA es\",((valor_del_paquete*20)/100),\n",
    "                \"su valor total es\" ,((valor_del_paquete*20)/100)+valor_del_paquete)\n",
    "        break\n",
    "    if (valor_del_paquete <20):\n",
    "        print (\"no paga impuesto de importación\" ,\n",
    "                \"valor del paquete\" , valor_del_paquete ,\n",
    "                \"El impuesto de importación es 0\" ,\n",
    "                \"su valor total es\" , valor_del_paquete)\n",
    "        break\n",
    "    if (valor_del_paquete >=20 and valor_del_paquete<=30):\n",
    "        print (\"Paga el 10% de impuesto de importación\" ,\n",
    "                \"valor del paquete\" ,valor_del_paquete  ,\n",
    "                \"El impuesto de importación es\"  ,((valor_del_paquete*10)/100) ,\n",
    "                \"su valor total es\" ,(((valor_del_paquete*10)/100)+valor_del_paquete))\n",
    "        break\n",
    "    if (valor_del_paquete >=30 and valor_del_paquete <=60):\n",
    "        print (\"Paga el 17% de impuesto de importación(paga un impuesto de importación adicional del 7%)\",\n",
    "                \"valor del paquete\",valor_del_paquete  ,\n",
    "                \"El impuesto de importación es\"  ,((valor_del_paquete*17)/100)  ,\n",
    "                \"su valor total es\" ,(((valor_del_paquete*17)/100)+valor_del_paquete))\n",
    "        break\n",
    "    elif (valor_del_paquete >60):\n",
    "        print (\"Paga el 20% de impuesto de importación(paga un impuesto de importación adicional del 3% sobre el valor superior a 60)\",\n",
    "                \"valor del paquete\" , valor_del_paquete ,\n",
    "                \"El impuesto de importación es\" , ((valor_del_paquete*20)/100) ,\n",
    "                \"su valor total es\" , (((valor_del_paquete*20)/100)+valor_del_paquete))\n",
    "        break\n",
    "        "
   ]
  },
  {
   "cell_type": "markdown",
   "metadata": {},
   "source": [
    "## 4 Reescribe el siguiente programa reemplazando la declaración condicional con expresiones condicionales"
   ]
  },
  {
   "cell_type": "code",
   "execution_count": 71,
   "metadata": {},
   "outputs": [
    {
     "name": "stdout",
     "output_type": "stream",
     "text": [
      "<= 1\n"
     ]
    }
   ],
   "source": [
    "a = -1\n",
    "if a == 0:\n",
    "    result = \"= 0\"\n",
    "elif a>1:\n",
    "    result = \"> 1\"\n",
    "else:\n",
    "    result = \"<= 1\"\n",
    "print(result)    "
   ]
  },
  {
   "cell_type": "code",
   "execution_count": 74,
   "metadata": {},
   "outputs": [
    {
     "name": "stdout",
     "output_type": "stream",
     "text": [
      "<= 1 \n"
     ]
    }
   ],
   "source": [
    "a= -1\n",
    "result= \"= 0\" if a==0  else \"<= 1 \"\n",
    "print(result)"
   ]
  },
  {
   "cell_type": "markdown",
   "metadata": {},
   "source": [
    "## 5 Reescriba el siguiente programa reemplazando la lista de comprensión con un while-loop"
   ]
  },
  {
   "cell_type": "code",
   "execution_count": 42,
   "metadata": {},
   "outputs": [
    {
     "name": "stdout",
     "output_type": "stream",
     "text": [
      "[4, 16]\n"
     ]
    }
   ],
   "source": [
    "list_1 = [1, 2, 3, 4]\n",
    "result  =  [digit ** 2 for digit in list_1 if digit % 2 == 0]\n",
    "print(result)\n"
   ]
  },
  {
   "cell_type": "code",
   "execution_count": 96,
   "metadata": {},
   "outputs": [
    {
     "ename": "IndentationError",
     "evalue": "expected an indented block (Temp/ipykernel_8524/2739420919.py, line 5)",
     "output_type": "error",
     "traceback": [
      "\u001b[1;36m  File \u001b[1;32m\"C:\\Users\\User\\AppData\\Local\\Temp/ipykernel_8524/2739420919.py\"\u001b[1;36m, line \u001b[1;32m5\u001b[0m\n\u001b[1;33m    if x**2 % 2==0:\u001b[0m\n\u001b[1;37m    ^\u001b[0m\n\u001b[1;31mIndentationError\u001b[0m\u001b[1;31m:\u001b[0m expected an indented block\n"
     ]
    }
   ],
   "source": [
    "list_1 = [1, 2, 3, 4]\n",
    "while list_1:\n",
    "    for x in list_1:\n",
    "        if x**2:\n",
    "        if x**2 % 2==0:\n",
    "        break \n",
    "             print(x)"
   ]
  },
  {
   "cell_type": "markdown",
   "metadata": {},
   "source": [
    "## 6 En la clase 1 te mostramos las siguientes afirmaciones:"
   ]
  },
  {
   "cell_type": "code",
   "execution_count": 7,
   "metadata": {},
   "outputs": [
    {
     "name": "stdout",
     "output_type": "stream",
     "text": [
      "True\n",
      "False\n"
     ]
    }
   ],
   "source": [
    "a = 1\n",
    "b = 1\n",
    "print(a is b)\n",
    "\n",
    "a = 1000\n",
    "b = 1000\n",
    "print(a is b)"
   ]
  },
  {
   "cell_type": "markdown",
   "metadata": {},
   "source": [
    "Y, por supuesto, tienes curiosidad por la diferencia. Aprendimos en la clase 1 que los números enteros -5 hasta 255 fueron internados (guardados en disco) cuando comenzó Python, esto significa que los objetos con estos valores ya estaban creados. Ahora deseaamos escribir un programa que nos diga que 256 es de hecho el primer número entero que Python no esta guardado en disco.\n",
    "\n",
    "Escrbimos el siguiente programa y ahora necsitamos explicar por qué este programa imprimirá \"Sorpresa\". ¿No debería romperse mientras se procesa el número entero 256, ya que ese número no está guardado internamente?"
   ]
  },
  {
   "cell_type": "code",
   "execution_count": 22,
   "metadata": {},
   "outputs": [
    {
     "name": "stdout",
     "output_type": "stream",
     "text": [
      "Surprise\n"
     ]
    }
   ],
   "source": [
    "for x in range(1000):\n",
    "    a = x\n",
    "    b = x\n",
    "    if not (a is b):\n",
    "        print(f\"the highest integer {x-1}\")\n",
    "        break\n",
    "else:\n",
    "    print(\"Surprise\")"
   ]
  },
  {
   "cell_type": "code",
   "execution_count": null,
   "metadata": {},
   "outputs": [],
   "source": [
    "# Repuesta: For  sirve como contador, entonces no cumple la regla"
   ]
  },
  {
   "cell_type": "markdown",
   "metadata": {},
   "source": [
    "## 7 Vuelva a escribir la siguiente declaración sin un bucle y solo usando declaraciones condicionales:"
   ]
  },
  {
   "cell_type": "code",
   "execution_count": 10,
   "metadata": {},
   "outputs": [
    {
     "name": "stdout",
     "output_type": "stream",
     "text": [
      "1\n",
      "2\n",
      "3\n"
     ]
    }
   ],
   "source": [
    "i = 1\n",
    "while i < 4:\n",
    "    print(i)\n",
    "    i +=1"
   ]
  },
  {
   "cell_type": "code",
   "execution_count": 21,
   "metadata": {},
   "outputs": [
    {
     "name": "stdout",
     "output_type": "stream",
     "text": [
      "1\n",
      "2\n",
      "3\n"
     ]
    }
   ],
   "source": [
    "i = 1\n",
    "if i < 4:\n",
    "        print(i)\n",
    "        i +=1\n",
    "if i <=4:\n",
    "    print(i)\n",
    "    i +=1\n",
    "if i <= 4:\n",
    "    print(i)\n",
    "    i +=1\n"
   ]
  }
 ],
 "metadata": {
  "kernelspec": {
   "display_name": "Python 3 (ipykernel)",
   "language": "python",
   "name": "python3"
  },
  "language_info": {
   "codemirror_mode": {
    "name": "ipython",
    "version": 3
   },
   "file_extension": ".py",
   "mimetype": "text/x-python",
   "name": "python",
   "nbconvert_exporter": "python",
   "pygments_lexer": "ipython3",
   "version": "3.9.7"
  }
 },
 "nbformat": 4,
 "nbformat_minor": 2
}
