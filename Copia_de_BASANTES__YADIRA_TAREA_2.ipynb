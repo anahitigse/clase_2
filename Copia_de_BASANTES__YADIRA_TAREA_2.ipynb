{
  "nbformat": 4,
  "nbformat_minor": 0,
  "metadata": {
    "colab": {
      "name": "Copia de BASANTES _YADIRA_TAREA.2.ipynb",
      "provenance": []
    },
    "kernelspec": {
      "name": "python3",
      "display_name": "Python 3"
    },
    "language_info": {
      "name": "python"
    }
  },
  "cells": [
    {
      "cell_type": "markdown",
      "source": [
        "\n",
        "***Universidad Central del Ecuador***\n",
        "\n",
        "**Nombre:** Basantes Zambrano Yadira Karina\n",
        "\n",
        "**Fecha:** 30/07/2022\n"
      ],
      "metadata": {
        "id": "tolOy9zZIARe"
      }
    },
    {
      "cell_type": "markdown",
      "source": [
        "### **Ejercicios Clase 2**\n",
        "\n",
        "**Ejercicio 1**\n",
        "\n",
        "Programa la impresión de una tabla de multiplicar para todos los números entre 1 y 10, usando For-loops\n",
        "\n",
        "1   times  1  =    1\n",
        "\n",
        "1   times  2  =    2\n",
        "\n",
        "1   times 10  =   10\n",
        "\n",
        "10   times 10  =  100  "
      ],
      "metadata": {
        "id": "RvA-FDt9IWuS"
      }
    },
    {
      "cell_type": "code",
      "source": [
        "for numero1 in range(1,10+1):\n",
        "  print(\"Tabla de multiplicar del número =\", numero1)\n",
        "  for numero2 in range(1,10+1):\n",
        "    print(\"      \",numero1,\"times\",numero2,\"=\",numero1*numero2)"
      ],
      "metadata": {
        "colab": {
          "base_uri": "https://localhost:8080/"
        },
        "id": "4UMYOUxGJAVC",
        "outputId": "f5cf77fa-4e22-4bd6-e494-ee8150cc325a"
      },
      "execution_count": null,
      "outputs": [
        {
          "output_type": "stream",
          "name": "stdout",
          "text": [
            "Tabla de multiplicar del número = 1\n",
            "       1 times 1 = 1\n",
            "       1 times 2 = 2\n",
            "       1 times 3 = 3\n",
            "       1 times 4 = 4\n",
            "       1 times 5 = 5\n",
            "       1 times 6 = 6\n",
            "       1 times 7 = 7\n",
            "       1 times 8 = 8\n",
            "       1 times 9 = 9\n",
            "       1 times 10 = 10\n",
            "Tabla de multiplicar del número = 2\n",
            "       2 times 1 = 2\n",
            "       2 times 2 = 4\n",
            "       2 times 3 = 6\n",
            "       2 times 4 = 8\n",
            "       2 times 5 = 10\n",
            "       2 times 6 = 12\n",
            "       2 times 7 = 14\n",
            "       2 times 8 = 16\n",
            "       2 times 9 = 18\n",
            "       2 times 10 = 20\n",
            "Tabla de multiplicar del número = 3\n",
            "       3 times 1 = 3\n",
            "       3 times 2 = 6\n",
            "       3 times 3 = 9\n",
            "       3 times 4 = 12\n",
            "       3 times 5 = 15\n",
            "       3 times 6 = 18\n",
            "       3 times 7 = 21\n",
            "       3 times 8 = 24\n",
            "       3 times 9 = 27\n",
            "       3 times 10 = 30\n",
            "Tabla de multiplicar del número = 4\n",
            "       4 times 1 = 4\n",
            "       4 times 2 = 8\n",
            "       4 times 3 = 12\n",
            "       4 times 4 = 16\n",
            "       4 times 5 = 20\n",
            "       4 times 6 = 24\n",
            "       4 times 7 = 28\n",
            "       4 times 8 = 32\n",
            "       4 times 9 = 36\n",
            "       4 times 10 = 40\n",
            "Tabla de multiplicar del número = 5\n",
            "       5 times 1 = 5\n",
            "       5 times 2 = 10\n",
            "       5 times 3 = 15\n",
            "       5 times 4 = 20\n",
            "       5 times 5 = 25\n",
            "       5 times 6 = 30\n",
            "       5 times 7 = 35\n",
            "       5 times 8 = 40\n",
            "       5 times 9 = 45\n",
            "       5 times 10 = 50\n",
            "Tabla de multiplicar del número = 6\n",
            "       6 times 1 = 6\n",
            "       6 times 2 = 12\n",
            "       6 times 3 = 18\n",
            "       6 times 4 = 24\n",
            "       6 times 5 = 30\n",
            "       6 times 6 = 36\n",
            "       6 times 7 = 42\n",
            "       6 times 8 = 48\n",
            "       6 times 9 = 54\n",
            "       6 times 10 = 60\n",
            "Tabla de multiplicar del número = 7\n",
            "       7 times 1 = 7\n",
            "       7 times 2 = 14\n",
            "       7 times 3 = 21\n",
            "       7 times 4 = 28\n",
            "       7 times 5 = 35\n",
            "       7 times 6 = 42\n",
            "       7 times 7 = 49\n",
            "       7 times 8 = 56\n",
            "       7 times 9 = 63\n",
            "       7 times 10 = 70\n",
            "Tabla de multiplicar del número = 8\n",
            "       8 times 1 = 8\n",
            "       8 times 2 = 16\n",
            "       8 times 3 = 24\n",
            "       8 times 4 = 32\n",
            "       8 times 5 = 40\n",
            "       8 times 6 = 48\n",
            "       8 times 7 = 56\n",
            "       8 times 8 = 64\n",
            "       8 times 9 = 72\n",
            "       8 times 10 = 80\n",
            "Tabla de multiplicar del número = 9\n",
            "       9 times 1 = 9\n",
            "       9 times 2 = 18\n",
            "       9 times 3 = 27\n",
            "       9 times 4 = 36\n",
            "       9 times 5 = 45\n",
            "       9 times 6 = 54\n",
            "       9 times 7 = 63\n",
            "       9 times 8 = 72\n",
            "       9 times 9 = 81\n",
            "       9 times 10 = 90\n",
            "Tabla de multiplicar del número = 10\n",
            "       10 times 1 = 10\n",
            "       10 times 2 = 20\n",
            "       10 times 3 = 30\n",
            "       10 times 4 = 40\n",
            "       10 times 5 = 50\n",
            "       10 times 6 = 60\n",
            "       10 times 7 = 70\n",
            "       10 times 8 = 80\n",
            "       10 times 9 = 90\n",
            "       10 times 10 = 100\n"
          ]
        }
      ]
    },
    {
      "cell_type": "markdown",
      "source": [
        "**EJERCICIO 2**\n",
        "\n",
        "2 Programe un calendario (para todos los meses) para 2020 usando For-loops Rendimiento esperado:\n",
        "\n",
        " January    \n",
        "\n",
        " Mon Tue Wed Thu Fri Sat Sun  \n",
        "\n",
        "            1   2   3   4   5\n",
        "     6   7   8   9  10  11  12\n",
        "     13  14  15  16  17  18  19\n",
        "     20  21  22  23  24  25  26\n",
        "     27  28  29  30  31\n",
        "\n",
        " February\n",
        " \n",
        " Mon Tue Wed Thu Fri Sat Sun\n",
        "                       \n",
        "                     1   2"
      ],
      "metadata": {
        "id": "olj87f1ZJRxS"
      }
    },
    {
      "cell_type": "code",
      "source": [
        "import calendar\n",
        "for calendario in range(1,12+1):\n",
        "  print(calendar.month(2020,calendario))"
      ],
      "metadata": {
        "colab": {
          "base_uri": "https://localhost:8080/"
        },
        "id": "S4g3tCCYJYGE",
        "outputId": "6e402272-e0e9-493a-d9f2-b139946e4c7a"
      },
      "execution_count": null,
      "outputs": [
        {
          "output_type": "stream",
          "name": "stdout",
          "text": [
            "    January 2020\n",
            "Mo Tu We Th Fr Sa Su\n",
            "       1  2  3  4  5\n",
            " 6  7  8  9 10 11 12\n",
            "13 14 15 16 17 18 19\n",
            "20 21 22 23 24 25 26\n",
            "27 28 29 30 31\n",
            "\n",
            "   February 2020\n",
            "Mo Tu We Th Fr Sa Su\n",
            "                1  2\n",
            " 3  4  5  6  7  8  9\n",
            "10 11 12 13 14 15 16\n",
            "17 18 19 20 21 22 23\n",
            "24 25 26 27 28 29\n",
            "\n",
            "     March 2020\n",
            "Mo Tu We Th Fr Sa Su\n",
            "                   1\n",
            " 2  3  4  5  6  7  8\n",
            " 9 10 11 12 13 14 15\n",
            "16 17 18 19 20 21 22\n",
            "23 24 25 26 27 28 29\n",
            "30 31\n",
            "\n",
            "     April 2020\n",
            "Mo Tu We Th Fr Sa Su\n",
            "       1  2  3  4  5\n",
            " 6  7  8  9 10 11 12\n",
            "13 14 15 16 17 18 19\n",
            "20 21 22 23 24 25 26\n",
            "27 28 29 30\n",
            "\n",
            "      May 2020\n",
            "Mo Tu We Th Fr Sa Su\n",
            "             1  2  3\n",
            " 4  5  6  7  8  9 10\n",
            "11 12 13 14 15 16 17\n",
            "18 19 20 21 22 23 24\n",
            "25 26 27 28 29 30 31\n",
            "\n",
            "     June 2020\n",
            "Mo Tu We Th Fr Sa Su\n",
            " 1  2  3  4  5  6  7\n",
            " 8  9 10 11 12 13 14\n",
            "15 16 17 18 19 20 21\n",
            "22 23 24 25 26 27 28\n",
            "29 30\n",
            "\n",
            "     July 2020\n",
            "Mo Tu We Th Fr Sa Su\n",
            "       1  2  3  4  5\n",
            " 6  7  8  9 10 11 12\n",
            "13 14 15 16 17 18 19\n",
            "20 21 22 23 24 25 26\n",
            "27 28 29 30 31\n",
            "\n",
            "    August 2020\n",
            "Mo Tu We Th Fr Sa Su\n",
            "                1  2\n",
            " 3  4  5  6  7  8  9\n",
            "10 11 12 13 14 15 16\n",
            "17 18 19 20 21 22 23\n",
            "24 25 26 27 28 29 30\n",
            "31\n",
            "\n",
            "   September 2020\n",
            "Mo Tu We Th Fr Sa Su\n",
            "    1  2  3  4  5  6\n",
            " 7  8  9 10 11 12 13\n",
            "14 15 16 17 18 19 20\n",
            "21 22 23 24 25 26 27\n",
            "28 29 30\n",
            "\n",
            "    October 2020\n",
            "Mo Tu We Th Fr Sa Su\n",
            "          1  2  3  4\n",
            " 5  6  7  8  9 10 11\n",
            "12 13 14 15 16 17 18\n",
            "19 20 21 22 23 24 25\n",
            "26 27 28 29 30 31\n",
            "\n",
            "   November 2020\n",
            "Mo Tu We Th Fr Sa Su\n",
            "                   1\n",
            " 2  3  4  5  6  7  8\n",
            " 9 10 11 12 13 14 15\n",
            "16 17 18 19 20 21 22\n",
            "23 24 25 26 27 28 29\n",
            "30\n",
            "\n",
            "   December 2020\n",
            "Mo Tu We Th Fr Sa Su\n",
            "    1  2  3  4  5  6\n",
            " 7  8  9 10 11 12 13\n",
            "14 15 16 17 18 19 20\n",
            "21 22 23 24 25 26 27\n",
            "28 29 30 31\n",
            "\n"
          ]
        }
      ]
    },
    {
      "cell_type": "markdown",
      "source": [
        "**EJERCICIO 3**\n",
        "\n",
        "3 Programe la siguiente regulación fiscal, usando datos ficticios con declaraciones condicionales, use las tres cláusulas (if, elif, else) al menos una vez\n",
        "\n",
        "Si el valor del paquete es inferior a 20 no tienes que pagar ningún impuesto de importación Si el valor del paquete está entre 20 y 30 pagas 10% de impuesto de importación sobre el valor total Si el valor del paquete está entre 30 y 60, paga un impuesto de importación adicional del 7% sobre el valor superior a 30 Si el valor del paquete es superior a 60, paga un impuesto de importación adicional del 3% sobre el valor superior a 60\n",
        "\n",
        "Si el valor del paquete es superior a 10 pagas el 20% de IVA sobre la suma total del valor e impuesto de importación\n",
        "\n",
        "El valor del paquete debe establecerse en una variable y debe probar si su programa funciona para diferentes valores.\n",
        "\n",
        "**Salida esperada (ejemplo):**\n",
        "\n",
        "El valor del paquete fue de 25,00, el impuesto de importación es de 2,50, el IVA es de 5,50, el total es de 33,00."
      ],
      "metadata": {
        "id": "zAlLY7-WKkV6"
      }
    },
    {
      "cell_type": "code",
      "source": [
        "valor = int(input(\"Digite el valor del paquete\"))\n",
        "\n",
        "if valor >=10 and valor<20:\n",
        "    IVA=(valor*0.2)\n",
        "    Total = round(valor+IVA, 2)\n",
        "    print(\"El valor del paquete fue de\",valor, \"no tiene que pagar impuesto, el IVA es de\", IVA,\"el total es de \",Total)\n",
        "\n",
        "elif valor <20:\n",
        "    print(\"El valor del paquete fue de\",valor, \"no tiene que pagar impuesto, el total es de \",valor)\n",
        "\n",
        "elif valor >= 20 and valor <= 30:\n",
        "    Impuesto = valor*0.10\n",
        "    IVA = round(valor*0.2+Impuesto*0.2, 2)\n",
        "    Total = round(valor+Impuesto+IVA, 2)\n",
        "    print(\"El valor del paquete fue de\", valor, \", el impuesto de importación es de\", Impuesto, \", el IVA es de\", IVA, \",el total es de \", Total )\n",
        "\n",
        "elif valor >=30 and valor <= 60:\n",
        "    Impuesto = valor*0.07\n",
        "    IVA = round(valor*0.2+Impuesto*0.2, 2)\n",
        "    Total = round(valor+Impuesto+IVA, 2)\n",
        "    print(\"El valor del paquete fue de\", valor, \", el impuesto de importación es de\", Impuesto, \", el IVA es de\", IVA, \",el total es de \", Total )\n",
        "\n",
        "elif valor > 60:\n",
        "     Impuesto = valor*0.03\n",
        "     IVA = round(valor*0.2+Impuesto*0.2, 2)\n",
        "     Total = round(valor+Impuesto+IVA, 2)\n",
        "     print(\"El valor del paquete fue de\", valor, \", el impuesto de importación es de\", Impuesto, \", el IVA es de\", IVA, \",el total es de \", Total )"
      ],
      "metadata": {
        "colab": {
          "base_uri": "https://localhost:8080/"
        },
        "id": "OmfZczSiLsGW",
        "outputId": "bea8139d-99b5-4b13-ebc4-edc71075d5d4"
      },
      "execution_count": null,
      "outputs": [
        {
          "output_type": "stream",
          "name": "stdout",
          "text": [
            "Digite el valor del paquete3\n",
            "El valor del paquete fue de 3 no tiene que pagar impuesto, el total es de  3\n"
          ]
        }
      ]
    },
    {
      "cell_type": "markdown",
      "source": [
        "**Ejercicio 4**\n",
        "\n",
        "Reescribe el siguiente programa reemplazando la declaración condicional con expresiones condicionales"
      ],
      "metadata": {
        "id": "JNhiLLqjKxm1"
      }
    },
    {
      "cell_type": "code",
      "source": [
        "a = -1\n",
        "if a == 0:\n",
        "    result = \"= 0\"\n",
        "elif a>1:\n",
        "    result = \"> 1\"\n",
        "else:\n",
        "    result = \"<= 1\"\n",
        "print(result)"
      ],
      "metadata": {
        "colab": {
          "base_uri": "https://localhost:8080/"
        },
        "id": "Y8Boj0QAK3eR",
        "outputId": "e46171f2-24b9-41a8-b0a8-fe184fde08d8"
      },
      "execution_count": null,
      "outputs": [
        {
          "output_type": "stream",
          "name": "stdout",
          "text": [
            "<= 1\n"
          ]
        }
      ]
    },
    {
      "cell_type": "code",
      "source": [
        "a = int(input(\"Ingrese el valor:\"))\n",
        "if a == 0:\n",
        "    result = \"= 0\"\n",
        "elif a>1:\n",
        "    result = \"> 1\"\n",
        "else:\n",
        "    result = \"<= 1\"\n",
        "print(result)"
      ],
      "metadata": {
        "colab": {
          "base_uri": "https://localhost:8080/"
        },
        "id": "Sj98l7qkK6s6",
        "outputId": "db7eeb94-4485-4ce0-cb77-cb187335754c"
      },
      "execution_count": null,
      "outputs": [
        {
          "output_type": "stream",
          "name": "stdout",
          "text": [
            "Ingrese el valor:2\n",
            "> 1\n"
          ]
        }
      ]
    },
    {
      "cell_type": "markdown",
      "source": [
        "**Ejercicio 5**\n",
        "\n",
        "Reescriba el siguiente programa reemplazando la lista de comprensión con un while-loop"
      ],
      "metadata": {
        "id": "mQ40R9P9K9L2"
      }
    },
    {
      "cell_type": "code",
      "source": [
        "list_1 = [1, 2, 3, 4]\n",
        "result  =  [digit ** 2 for digit in list_1 if digit % 2 == 0]\n",
        "print(result)"
      ],
      "metadata": {
        "colab": {
          "base_uri": "https://localhost:8080/"
        },
        "id": "6IHDDNiXLA1H",
        "outputId": "ab1827dd-c7c2-439e-c6fb-0b1e1e8c109b"
      },
      "execution_count": null,
      "outputs": [
        {
          "output_type": "stream",
          "name": "stdout",
          "text": [
            "[4, 16]\n"
          ]
        }
      ]
    },
    {
      "cell_type": "code",
      "source": [
        "list_1 = [1, 2, 3, 4]\n",
        "while list_1 :\n",
        "    result  =  [digit ** 2 for digit in list_1 if digit % 2 == 0]\n",
        "    print(result)\n",
        "    break"
      ],
      "metadata": {
        "colab": {
          "base_uri": "https://localhost:8080/"
        },
        "id": "wWbJ9Dp7LDvG",
        "outputId": "d8f118ec-7833-4c6b-9124-ed2c32079d17"
      },
      "execution_count": null,
      "outputs": [
        {
          "output_type": "stream",
          "name": "stdout",
          "text": [
            "[4, 16]\n"
          ]
        }
      ]
    },
    {
      "cell_type": "markdown",
      "source": [
        "**Ejercicio 6**\n",
        "\n",
        "En la clase 1 te mostramos las siguientes afirmaciones:"
      ],
      "metadata": {
        "id": "jU6tPWTSLGbm"
      }
    },
    {
      "cell_type": "code",
      "source": [
        "a = 1\n",
        "b = 1\n",
        "print(a is b)\n",
        "\n",
        "a = 1000\n",
        "b = 1000\n",
        "print(a is b)"
      ],
      "metadata": {
        "colab": {
          "base_uri": "https://localhost:8080/"
        },
        "id": "-bMS9KmKLKfX",
        "outputId": "f06b8ecb-a53f-480c-ad97-4c997e7ac9d0"
      },
      "execution_count": null,
      "outputs": [
        {
          "output_type": "stream",
          "name": "stdout",
          "text": [
            "True\n",
            "False\n"
          ]
        }
      ]
    },
    {
      "cell_type": "code",
      "source": [
        "for x in range(1000):\n",
        "    a = x\n",
        "    b = x\n",
        "    if not (a is b):\n",
        "        print(f\"the highest integer {x-1}\")\n",
        "        break\n",
        "else:\n",
        "    print(\"Surprise\")"
      ],
      "metadata": {
        "colab": {
          "base_uri": "https://localhost:8080/"
        },
        "id": "-rIaNKkCLMzj",
        "outputId": "154c0ba0-8aaf-4737-cff4-ab571bee14e7"
      },
      "execution_count": null,
      "outputs": [
        {
          "output_type": "stream",
          "name": "stdout",
          "text": [
            "Surprise\n"
          ]
        }
      ]
    },
    {
      "cell_type": "markdown",
      "source": [
        "**Ejercicio 7**\n",
        "\n",
        "Vuelva a escribir la siguiente declaración sin un bucle y solo usando declaraciones condicionales:"
      ],
      "metadata": {
        "id": "iUV4rGU6LPwh"
      }
    },
    {
      "cell_type": "code",
      "source": [
        "i = 1\n",
        "while i < 4:\n",
        "    print(i)\n",
        "    i +=1"
      ],
      "metadata": {
        "colab": {
          "base_uri": "https://localhost:8080/"
        },
        "id": "avx5XDDqLTRH",
        "outputId": "a5a876cf-7426-42e1-aa24-e153e0ff4b4c"
      },
      "execution_count": null,
      "outputs": [
        {
          "output_type": "stream",
          "name": "stdout",
          "text": [
            "1\n",
            "2\n",
            "3\n"
          ]
        }
      ]
    },
    {
      "cell_type": "code",
      "source": [
        "i = 1\n",
        "if i < 4:\n",
        "    print(i)\n",
        "    print(i+1)\n",
        "    print(i+2)"
      ],
      "metadata": {
        "colab": {
          "base_uri": "https://localhost:8080/"
        },
        "id": "iShRbBAALVaa",
        "outputId": "bd747834-de0b-43a2-e320-a12f6802f099"
      },
      "execution_count": null,
      "outputs": [
        {
          "output_type": "stream",
          "name": "stdout",
          "text": [
            "1\n",
            "2\n",
            "3\n"
          ]
        }
      ]
    }
  ]
}