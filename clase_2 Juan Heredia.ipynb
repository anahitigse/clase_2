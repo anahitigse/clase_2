{
  "cells": [
    {
      "cell_type": "markdown",
      "metadata": {
        "id": "xYXNhi-917eB"
      },
      "source": [
        "# Preguntas "
      ]
    },
    {
      "cell_type": "markdown",
      "metadata": {
        "id": "s-SRziuu17eC"
      },
      "source": [
        "## 1 Programa la impresión de una tabla de multiplicar para todos los números entre 1 y 10, usando For-loops\n",
        "## Rendimiento esperado:\n",
        "     1   times  1  =    1\n",
        "     1   times  2  =    2\n",
        "     ...\n",
        "     1   times 10  =   10\n",
        "     ...\n",
        "    10   times 10  =  100  "
      ]
    },
    {
      "cell_type": "code",
      "source": [
        "for i in range(1,11):\n",
        "  for j in range(1,11):\n",
        "    print(f'{i} times {j} = {i*j}')"
      ],
      "metadata": {
        "id": "0mgAbQ4G2dqv"
      },
      "execution_count": null,
      "outputs": []
    },
    {
      "cell_type": "markdown",
      "metadata": {
        "id": "Hd4F0jBA17eE"
      },
      "source": [
        "## 2 Programe un calendario (para todos los meses) para 2020 usando For-loops\n",
        "## Rendimiento esperado:\n",
        "     January                     \n",
        "     Mon Tue Wed Thu Fri Sat Sun  \n",
        "              1   2   3   4   5\n",
        "      6   7   8   9  10  11  12\n",
        "     13  14  15  16  17  18  19\n",
        "     20  21  22  23  24  25  26\n",
        "     27  28  29  30  31\n",
        "     \n",
        "     February\n",
        "     Mon Tue Wed Thu Fri Sat Sun\n",
        "                           1   2"
      ]
    },
    {
      "cell_type": "markdown",
      "metadata": {
        "id": "qB8zN2v517eF"
      },
      "source": [
        "## 3 Programe la siguiente regulación fiscal, usando datos ficticios con declaraciones condicionales, use las tres cláusulas (if, elif, else) al menos una vez\n",
        "Si el valor del paquete es inferior a 20 no tienes que pagar ningún impuesto de importación\n",
        "Si el valor del paquete está entre 20 y 30 pagas 10% de impuesto de importación sobre el valor total\n",
        "Si el valor del paquete está entre 30 y 60, paga un impuesto de importación adicional del 7% sobre el valor superior a 30\n",
        "Si el valor del paquete es superior a 60, paga un impuesto de importación adicional del 3% sobre el valor superior a 60\n",
        "\n",
        "Si el valor del paquete es superior a 10 pagas el 20% de IVA sobre la suma total del valor e impuesto de importación\n",
        "\n",
        "El valor del paquete debe establecerse en una variable y debe probar si su programa funciona para diferentes valores.\n",
        "### Salida esperada (ejemplo):\n",
        "El valor del paquete fue de 25,00, el impuesto de importación es de 2,50, el IVA es de 5,50, el total es de 33,00."
      ]
    },
    {
      "cell_type": "code",
      "source": [
        "imp1=1.1; imp2=1.07; imp3=1.03; iva=0\n",
        "valor=60\n",
        "\n",
        "if valor<20:\n",
        "  vf=valor\n",
        "elif valor<30:\n",
        "  vf=valor*imp1\n",
        "elif valor<60:\n",
        "  vf=valor*imp1*imp2\n",
        "else:\n",
        "  vf=valor*imp1*imp2*imp3\n",
        "\n",
        "if valor>10:\n",
        "  iva=valor*0.2\n",
        "\n",
        "print(f'El valor del paquete fue de {valor:02.2f}\\nEl impuesto es de {vf-valor:02.2f}\\nEl IVA es de {iva:02.2f}\\nEl total es de {vf+iva:02.2f}')"
      ],
      "metadata": {
        "colab": {
          "base_uri": "https://localhost:8080/"
        },
        "id": "jGGMoi4z3pyr",
        "outputId": "4c55bd48-7405-4125-db5d-148b3a278a5e"
      },
      "execution_count": 18,
      "outputs": [
        {
          "output_type": "stream",
          "name": "stdout",
          "text": [
            "El valor del paquete fue de 60.00\n",
            "El impuesto es de 12.74\n",
            "El IVA es de 12.00\n",
            "El total es de 84.74\n"
          ]
        }
      ]
    },
    {
      "cell_type": "markdown",
      "metadata": {
        "id": "fNjtAsxP17eG"
      },
      "source": [
        "## 4 Reescribe el siguiente programa reemplazando la declaración condicional con expresiones condicionales"
      ]
    },
    {
      "cell_type": "code",
      "execution_count": 19,
      "metadata": {
        "colab": {
          "base_uri": "https://localhost:8080/"
        },
        "id": "mSpgMf5s17eN",
        "outputId": "b23a80b0-16a6-4218-c30c-6bccc2deba67"
      },
      "outputs": [
        {
          "output_type": "stream",
          "name": "stdout",
          "text": [
            "<= 1\n"
          ]
        }
      ],
      "source": [
        "a = -1\n",
        "if a == 0:\n",
        "    result = \"= 0\"\n",
        "elif a>1:\n",
        "    result = \"> 1\"\n",
        "else:\n",
        "    result = \"<= 1\"\n",
        "print(result)    "
      ]
    },
    {
      "cell_type": "code",
      "source": [
        "a = -1\n",
        "r = \"= 0\" if a == 0 else \"> 1\" if a > 1 else \"<=1\"\n",
        "print(r)"
      ],
      "metadata": {
        "colab": {
          "base_uri": "https://localhost:8080/"
        },
        "id": "4pyGQBuZ6CCz",
        "outputId": "dfbb13ba-82ea-4855-cb38-408ad95af962"
      },
      "execution_count": 21,
      "outputs": [
        {
          "output_type": "stream",
          "name": "stdout",
          "text": [
            "<=1\n"
          ]
        }
      ]
    },
    {
      "cell_type": "markdown",
      "metadata": {
        "id": "ZM5vwXeJ17eP"
      },
      "source": [
        "## 5 Reescriba el siguiente programa reemplazando la lista de comprensión con un while-loop"
      ]
    },
    {
      "cell_type": "code",
      "execution_count": 22,
      "metadata": {
        "colab": {
          "base_uri": "https://localhost:8080/"
        },
        "id": "T3-EnZ-817eQ",
        "outputId": "9e9d5d81-359e-47a2-91f3-189b92c0a590"
      },
      "outputs": [
        {
          "output_type": "stream",
          "name": "stdout",
          "text": [
            "[4, 16]\n"
          ]
        }
      ],
      "source": [
        "list_1 = [1, 2, 3, 4]\n",
        "result  =  [digit ** 2 for digit in list_1 if digit % 2 == 0]\n",
        "print(result)"
      ]
    },
    {
      "cell_type": "code",
      "source": [
        "aux=0; l1=[1,2,3,4]\n",
        "while aux<len(l1):\n",
        "  if l1[aux]%2==0:\n",
        "    print(l1[aux]**2)\n",
        "  aux=aux+1"
      ],
      "metadata": {
        "colab": {
          "base_uri": "https://localhost:8080/"
        },
        "id": "g0EXzI3F9Oe_",
        "outputId": "882e3f20-825e-4e3a-bec8-5789fb60cc9e"
      },
      "execution_count": 25,
      "outputs": [
        {
          "output_type": "stream",
          "name": "stdout",
          "text": [
            "4\n",
            "16\n"
          ]
        }
      ]
    },
    {
      "cell_type": "markdown",
      "metadata": {
        "id": "dQRl4L5y17eR"
      },
      "source": [
        "## 6 En la clase 1 te mostramos las siguientes afirmaciones:"
      ]
    },
    {
      "cell_type": "code",
      "execution_count": null,
      "metadata": {
        "id": "oHpZgRYD17eS",
        "outputId": "814ebde6-7eac-4939-f83e-56e1929402b3"
      },
      "outputs": [
        {
          "name": "stdout",
          "output_type": "stream",
          "text": [
            "True\n",
            "False\n"
          ]
        }
      ],
      "source": [
        "a = 1\n",
        "b = 1\n",
        "print(a is b)\n",
        "\n",
        "a = 1000\n",
        "b = 1000\n",
        "print(a is b)"
      ]
    },
    {
      "cell_type": "markdown",
      "metadata": {
        "id": "2mGvDTB117eU"
      },
      "source": [
        "Y, por supuesto, tienes curiosidad por la diferencia. Aprendimos en la clase 1 que los números enteros -5 hasta 255 fueron internados (guardados en disco) cuando comenzó Python, esto significa que los objetos con estos valores ya estaban creados. Ahora deseaamos escribir un programa que nos diga que 256 es de hecho el primer número entero que Python no esta guardado en disco.\n",
        "\n",
        "Escrbimos el siguiente programa y ahora necsitamos explicar por qué este programa imprimirá \"Sorpresa\". ¿No debería romperse mientras se procesa el número entero 256, ya que ese número no está guardado internamente?"
      ]
    },
    {
      "cell_type": "code",
      "execution_count": null,
      "metadata": {
        "id": "gIf-QLl117eV"
      },
      "outputs": [],
      "source": [
        "for x in range(1000):\n",
        "    a = x\n",
        "    b = x\n",
        "    if not (a is b):\n",
        "        print(f\"the highest integer {x-1}\")\n",
        "        break\n",
        "  else:\n",
        "    print(\"Surprise\")"
      ]
    },
    {
      "cell_type": "code",
      "source": [
        ""
      ],
      "metadata": {
        "id": "9acpxUFt-4PG"
      },
      "execution_count": null,
      "outputs": []
    },
    {
      "cell_type": "markdown",
      "metadata": {
        "id": "WKe-3tFR17eX"
      },
      "source": [
        "## 7 Vuelva a escribir la siguiente declaración sin un bucle y solo usando declaraciones condicionales:"
      ]
    },
    {
      "cell_type": "code",
      "execution_count": 31,
      "metadata": {
        "colab": {
          "base_uri": "https://localhost:8080/"
        },
        "id": "D7mvJ4mG17eZ",
        "outputId": "a14c7dfd-175c-4f1e-a351-9fb3281bd351"
      },
      "outputs": [
        {
          "output_type": "stream",
          "name": "stdout",
          "text": [
            "1\n",
            "2\n",
            "3\n"
          ]
        }
      ],
      "source": [
        "i = 1\n",
        "while i < 4:\n",
        "    print(i)\n",
        "    i +=1"
      ]
    },
    {
      "cell_type": "code",
      "source": [
        "i=1\n",
        "if i<4:\n",
        "  print(i); i=i+1\n",
        "if i<4:\n",
        "  print(i); i=i+1\n",
        "if i<4:\n",
        "  print(i); i=i+1\n",
        "if i<4:\n",
        "  print(i); i=i+1"
      ],
      "metadata": {
        "colab": {
          "base_uri": "https://localhost:8080/"
        },
        "id": "tyCk-_G9_MuC",
        "outputId": "b7539012-c924-4da4-a6af-1344e40670e4"
      },
      "execution_count": 33,
      "outputs": [
        {
          "output_type": "stream",
          "name": "stdout",
          "text": [
            "1\n",
            "2\n",
            "3\n"
          ]
        }
      ]
    }
  ],
  "metadata": {
    "kernelspec": {
      "display_name": "Python 3",
      "language": "python",
      "name": "python3"
    },
    "language_info": {
      "codemirror_mode": {
        "name": "ipython",
        "version": 3
      },
      "file_extension": ".py",
      "mimetype": "text/x-python",
      "name": "python",
      "nbconvert_exporter": "python",
      "pygments_lexer": "ipython3",
      "version": "3.8.5"
    },
    "colab": {
      "name": "clase 2.ipynb",
      "provenance": [],
      "collapsed_sections": []
    }
  },
  "nbformat": 4,
  "nbformat_minor": 0
}